{
  "cells": [
    {
      "cell_type": "markdown",
      "metadata": {
        "id": "fKXYFNMStr9E"
      },
      "source": [
        "# Data Parsing, Cleansing and Integration\n",
        "## Task 1 and 2\n",
        "#### Student Name: Sunita Verma\n",
        "\n",
        "\n",
        "Date: 8/09/2023\n",
        "\n",
        "Version: 1.0\n",
        "\n",
        "Environment: Python 3 and Jupyter notebook\n",
        "\n",
        "Libraries used: please include the main libraries you used in your assignment, e.g.,:\n",
        "* pandas\n",
        "* re\n",
        "* numpy\n",
        "\n"
      ]
    },
    {
      "cell_type": "markdown",
      "metadata": {
        "id": "yAiwDaVB5hjk"
      },
      "source": [
        "##**Introduction:**\n",
        "\n",
        "In the world of job search websites, proper administration and analysis of job advertisement data is critical to improving the user experience for job seekers. Websites such as seek.com, Azuna.com, and others have sophisticated job search systems that allow users to search for relevant job ads based on a variety of criteria such as keywords, salary, and categories. The work at hand for a data analyst is to wrangle a huge collection of job advertisement records stored in XML format, handle potential data quality issues, and combine this information with another data source. The goal is to collect clean, integrated data that can be used for future analysis and improvements to the job search experience.\n",
        "\n",
        "Assessment Overview\n",
        "This assessment comprises three major tasks to be completed sequentially:\n",
        "\n",
        "- Task 1: Data Parsing\n",
        "In this initial task, the focus is on exploring the first dataset, identifying its format, and using Python tools and libraries to parse the data into a pandas DataFrame. The dataset's structure and contents will be examined to prepare it for further analysis.\n",
        "\n",
        "- Task 2: Data Cleaning\n",
        "Once the data is successfully parsed, the next step is to delve deeper into the dataset. This involves identifying and rectifying data quality issues, anomalies, or inconsistencies that may exist within the dataset. The objective is to transform the data into a clean and structured format, aligning it with the required data quality standards.\n",
        "\n",
        "- Task 3: Data Integration\n",
        "In the final task, the cleaned dataset from Task 2 is integrated with a second dataset. This integration process involves addressing schema-level conflicts, merging the datasets, and identifying and resolving any data-level conflicts that may arise during integration. The goal is to create a unified dataset that combines information from both sources, ready for comprehensive analysis.\n",
        "\n",
        "- Challenges and Approaches\n",
        "Throughout this assessment, several challenges may be encountered, including but not limited to:\n",
        "\n",
        "Parsing data from XML format and converting it into a usable DataFrame.\n",
        "Identifying and addressing data quality issues such as missing values, duplicates, and inconsistencies.\n",
        "Integrating data from two different sources with potentially conflicting schemas.\n",
        "Resolving data-level conflicts, such as differing representations of the same entity.\n",
        "To overcome these challenges, various Python libraries, data cleaning techniques, and data integration strategies will be employed. The assessment will provide a comprehensive demonstration of the steps taken to handle these challenges and prepare the data for meaningful analysis.\n",
        "\n",
        "In summary, this assessment simulates a real-world scenario where data analysts are tasked with extracting, cleaning, and integrating job advertisement data. The successful completion of these tasks will contribute to enhancing the overall usability and effectiveness of job hunting websites, ultimately benefiting job seekers and employers alike."
      ]
    },
    {
      "cell_type": "markdown",
      "metadata": {
        "id": "3obIIjHwtr9I"
      },
      "source": [
        "## Importing libraries"
      ]
    },
    {
      "cell_type": "code",
      "execution_count": 714,
      "metadata": {
        "id": "VSLZGMeKgkBo"
      },
      "outputs": [],
      "source": [
        "import re\n",
        "import difflib\n",
        "import numpy as np\n",
        "import pandas as pd\n",
        "import seaborn as sns\n",
        "import matplotlib.pyplot as plt\n",
        "import xml.etree.ElementTree as etree"
      ]
    },
    {
      "cell_type": "markdown",
      "metadata": {
        "id": "5AFeSIV7tr9J"
      },
      "source": [
        "## Task 1. Parsing Data"
      ]
    },
    {
      "cell_type": "markdown",
      "metadata": {
        "id": "TRxDq44Htr9K"
      },
      "source": [
        "### 1.1. Examining and loading data\n",
        "I have examined the \"dataset1.xml\" file to understand its content and structure. The data in the XML file is organized hierarchically, with nested elements. To load this XML data into Python, we can use libraries like 'xml.etree.ElementTree'.This library will allow us to parse the XML and convert it into a more accessible data structure,such as DataFrame, making it easier to work with and analyze."
      ]
    },
    {
      "cell_type": "code",
      "execution_count": 715,
      "metadata": {
        "id": "AL9lOAHDtr9I"
      },
      "outputs": [],
      "source": [
        "tree = etree.parse(\"/content/dataset1.xml\")"
      ]
    },
    {
      "cell_type": "code",
      "execution_count": 716,
      "metadata": {
        "colab": {
          "base_uri": "https://localhost:8080/",
          "height": 35
        },
        "collapsed": true,
        "id": "lPKW4i0Ftr9K",
        "outputId": "152f8208-da1b-409d-c3a6-1e067b55cc19"
      },
      "outputs": [
        {
          "data": {
            "application/vnd.google.colaboratory.intrinsic+json": {
              "type": "string"
            },
            "text/plain": [
              "'Rows'"
            ]
          },
          "execution_count": 716,
          "metadata": {},
          "output_type": "execute_result"
        }
      ],
      "source": [
        "# Code to inspect the provided data file\n",
        "root = tree.getroot()\n",
        "root.tag"
      ]
    },
    {
      "cell_type": "code",
      "execution_count": 717,
      "metadata": {
        "colab": {
          "base_uri": "https://localhost:8080/"
        },
        "id": "eV_ybnCJJV4R",
        "outputId": "4dbd5e23-b31d-4c12-92be-312fa7f129af"
      },
      "outputs": [
        {
          "name": "stdout",
          "output_type": "stream",
          "text": [
            "<SrcName>cv-library.co.uk</SrcName>\n",
            "<Ad ID=\"69537180\">\n",
            "<Title>Head of Business Assurance</Title>\n",
            "<Location>UK</Location>\n",
            "<Company>Interaction Finance</Company>\n",
            "<ContractTime>permanent</ContractTime>\n",
            "<Category>Accounting &amp; Finance Jobs</Category>\n",
            "<Salary>47500</Salary>\n",
            "<OpenDate>20130131T120000</OpenDate>\n",
            "<CloseDate>20130302T120000</CloseDate>\n",
            "</Ad>\n"
          ]
        }
      ],
      "source": [
        "# Print the entire XML structure\n",
        "etree.dump(root[0][0])\n",
        "etree.dump(root[0][1])"
      ]
    },
    {
      "cell_type": "code",
      "execution_count": 718,
      "metadata": {
        "colab": {
          "base_uri": "https://localhost:8080/"
        },
        "id": "1ybqfLuJ8776",
        "outputId": "840c0ca0-77c7-4048-d887-34f0f86a3d25"
      },
      "outputs": [
        {
          "name": "stdout",
          "output_type": "stream",
          "text": [
            "Tag: Title\n",
            "Attributes: {}\n",
            "Text: Head of Business Assurance\n",
            "\n",
            "Tag: Location\n",
            "Attributes: {}\n",
            "Text: UK\n",
            "\n",
            "Tag: Company\n",
            "Attributes: {}\n",
            "Text: Interaction Finance\n",
            "\n",
            "Tag: ContractTime\n",
            "Attributes: {}\n",
            "Text: permanent\n",
            "\n",
            "Tag: Category\n",
            "Attributes: {}\n",
            "Text: Accounting & Finance Jobs\n",
            "\n",
            "Tag: Salary\n",
            "Attributes: {}\n",
            "Text: 47500\n",
            "\n",
            "Tag: OpenDate\n",
            "Attributes: {}\n",
            "Text: 20130131T120000\n",
            "\n",
            "Tag: CloseDate\n",
            "Attributes: {}\n",
            "Text: 20130302T120000\n",
            "\n"
          ]
        }
      ],
      "source": [
        "# Alternatively, we can loop through elements to print specific information\n",
        "for element in root[0][1]:\n",
        "    print(\"Tag:\", element.tag)\n",
        "    print(\"Attributes:\", element.attrib)\n",
        "    print(\"Text:\", element.text)\n",
        "    print()"
      ]
    },
    {
      "cell_type": "code",
      "execution_count": 719,
      "metadata": {
        "colab": {
          "base_uri": "https://localhost:8080/"
        },
        "id": "8ul7KrTr6F9E",
        "outputId": "cbf500ef-c32a-4cd3-b0b6-4db05daa08b0"
      },
      "outputs": [
        {
          "name": "stdout",
          "output_type": "stream",
          "text": [
            "<Element 'Title' at 0x7feef3125a80>\n",
            "<Element 'Location' at 0x7feef3125fd0>\n",
            "<Element 'Company' at 0x7feef3126200>\n",
            "<Element 'ContractTime' at 0x7feef3124db0>\n",
            "<Element 'Category' at 0x7feef3124fe0>\n",
            "<Element 'Salary' at 0x7feef3126ac0>\n",
            "<Element 'OpenDate' at 0x7feef3127420>\n",
            "<Element 'CloseDate' at 0x7feef3125d00>\n"
          ]
        }
      ],
      "source": [
        "for child in root[0][1]:\n",
        "    print(child)"
      ]
    },
    {
      "cell_type": "code",
      "execution_count": 720,
      "metadata": {
        "colab": {
          "base_uri": "https://localhost:8080/"
        },
        "id": "-J-uaMJ257Sl",
        "outputId": "f9a785d5-eb4e-4be2-f545-4c0e79fe732d"
      },
      "outputs": [
        {
          "data": {
            "text/plain": [
              "7169"
            ]
          },
          "execution_count": 720,
          "metadata": {},
          "output_type": "execute_result"
        }
      ],
      "source": [
        "len(root[0])"
      ]
    },
    {
      "cell_type": "markdown",
      "metadata": {
        "id": "j_P0pVL9tr9K"
      },
      "source": [
        "### 1.2 Parsing data into the required format"
      ]
    },
    {
      "cell_type": "markdown",
      "metadata": {
        "id": "0ZExSqZmtr9L"
      },
      "source": [
        "*Extracting XML Data into Pandas DataFrame*\n",
        "\n",
        "So far we have loaded XML into an element tree and have also found all the tags that contain the data we want.\n",
        "In this task, we are going to extract the records in XML and store them into Pandas DataFrame, as we always do :)"
      ]
    },
    {
      "cell_type": "markdown",
      "metadata": {
        "id": "VI-PuFbz-DB3"
      },
      "source": [
        "Below we create a data dictionary `job_data`, with keys equal to the tags name: 'Id','Title','Location','Company','ContractType','ContractTime','Category',\t'Salary','OpenDate', 'CloseDate', 'SourceName', the value of each will be use to store a list of text values corresponds to those tags.\n",
        "\n",
        "To extract data from an XML file into a DataFrame while dealing with scenarios where some tags are missing in certain rows. For the tags that aren't present in certain rows, we'll need to address missing values (e.g., by inserting None).\n",
        "\n"
      ]
    },
    {
      "cell_type": "code",
      "execution_count": 721,
      "metadata": {
        "id": "2kqV9D3hGKt8"
      },
      "outputs": [],
      "source": [
        "job_data = {\n",
        "    'Id': [],\n",
        "    'Title': [],\n",
        "    'Location': [],\n",
        "    'Company': [],\n",
        "    'ContractType': [],\n",
        "    'ContractTime': [],\n",
        "    'Category': [],\n",
        "    'Salary': [],\n",
        "    'OpenDate': [],\n",
        "    'CloseDate': [],\n",
        "    'SourceName': [],\n",
        "}\n"
      ]
    },
    {
      "cell_type": "code",
      "execution_count": 722,
      "metadata": {
        "colab": {
          "base_uri": "https://localhost:8080/"
        },
        "id": "ZB2hxnfsGNIG",
        "outputId": "e59b898c-dcb4-40ec-b619-21f055c71329"
      },
      "outputs": [
        {
          "name": "stdout",
          "output_type": "stream",
          "text": [
            "50753\n",
            "50753\n",
            "50753\n",
            "50753\n",
            "50753\n",
            "50753\n",
            "50753\n",
            "50753\n",
            "50753\n",
            "50753\n",
            "50753\n"
          ]
        }
      ],
      "source": [
        "# Iterate through the XML elements and extract the data\n",
        "for source in root.findall('.//Source'):\n",
        "    src_name = source.find('SrcName').text\n",
        "    for ad in source.findall('Ad'):\n",
        "        job_data['Id'].append(ad.get('ID'))\n",
        "        job_data['Title'].append(ad.find('Title').text if ad.find('Title') is not None else None)\n",
        "        job_data['Location'].append(ad.find('Location').text if ad.find('Location') is not None else None)\n",
        "        job_data['Company'].append(ad.find('Company').text if ad.find('Company') is not None else None)\n",
        "        job_data['ContractType'].append(ad.find('ContractType').text if ad.find('ContractType') is not None else None)\n",
        "        job_data['ContractTime'].append(ad.find('ContractTime').text if ad.find('ContractTime') is not None else None)\n",
        "        job_data['Category'].append(ad.find('Category').text if ad.find('Category') is not None else None)\n",
        "        job_data['Salary'].append(ad.find('Salary').text if ad.find('Salary') is not None else None)\n",
        "        job_data['OpenDate'].append(ad.find('OpenDate').text if ad.find('OpenDate') is not None else None)\n",
        "        job_data['CloseDate'].append(ad.find('CloseDate').text if ad.find('CloseDate') is not None else None)\n",
        "        job_data['SourceName'].append(src_name)\n",
        "\n",
        "\n",
        "print(len(job_data['Id']))\n",
        "print(len(job_data['Title']))\n",
        "print(len(job_data['Location']))\n",
        "print(len(job_data['Company']))\n",
        "print(len(job_data['ContractType']))\n",
        "print(len(job_data['ContractTime']))\n",
        "print(len(job_data['Category']))\n",
        "print(len(job_data['Salary']))\n",
        "print(len(job_data['OpenDate']))\n",
        "print(len(job_data['CloseDate']))\n",
        "print(len(job_data['SourceName']))"
      ]
    },
    {
      "cell_type": "code",
      "execution_count": 723,
      "metadata": {
        "colab": {
          "base_uri": "https://localhost:8080/",
          "height": 400
        },
        "id": "O_FYCUmnIEzL",
        "outputId": "eefff054-78b1-4719-ebea-5f178b341693"
      },
      "outputs": [
        {
          "data": {
            "text/html": [
              "\n",
              "  <div id=\"df-b96d08c9-32c2-485c-b2ce-46da2a7af5c3\" class=\"colab-df-container\">\n",
              "    <div>\n",
              "<style scoped>\n",
              "    .dataframe tbody tr th:only-of-type {\n",
              "        vertical-align: middle;\n",
              "    }\n",
              "\n",
              "    .dataframe tbody tr th {\n",
              "        vertical-align: top;\n",
              "    }\n",
              "\n",
              "    .dataframe thead th {\n",
              "        text-align: right;\n",
              "    }\n",
              "</style>\n",
              "<table border=\"1\" class=\"dataframe\">\n",
              "  <thead>\n",
              "    <tr style=\"text-align: right;\">\n",
              "      <th></th>\n",
              "      <th>Id</th>\n",
              "      <th>Title</th>\n",
              "      <th>Location</th>\n",
              "      <th>Company</th>\n",
              "      <th>ContractType</th>\n",
              "      <th>ContractTime</th>\n",
              "      <th>Category</th>\n",
              "      <th>Salary</th>\n",
              "      <th>OpenDate</th>\n",
              "      <th>CloseDate</th>\n",
              "      <th>SourceName</th>\n",
              "    </tr>\n",
              "  </thead>\n",
              "  <tbody>\n",
              "    <tr>\n",
              "      <th>0</th>\n",
              "      <td>69537180</td>\n",
              "      <td>Head of Business Assurance</td>\n",
              "      <td>UK</td>\n",
              "      <td>Interaction Finance</td>\n",
              "      <td>None</td>\n",
              "      <td>permanent</td>\n",
              "      <td>Accounting &amp; Finance Jobs</td>\n",
              "      <td>47500</td>\n",
              "      <td>20130131T120000</td>\n",
              "      <td>20130302T120000</td>\n",
              "      <td>cv-library.co.uk</td>\n",
              "    </tr>\n",
              "    <tr>\n",
              "      <th>1</th>\n",
              "      <td>68216910</td>\n",
              "      <td>Machine Tool Wiremen / Panel Wiremen</td>\n",
              "      <td>Bradford</td>\n",
              "      <td>Network Employment Consultancy</td>\n",
              "      <td>None</td>\n",
              "      <td>permanent</td>\n",
              "      <td>Engineering Jobs</td>\n",
              "      <td>23040</td>\n",
              "      <td>20130314T150000</td>\n",
              "      <td>20130612T150000</td>\n",
              "      <td>cv-library.co.uk</td>\n",
              "    </tr>\n",
              "    <tr>\n",
              "      <th>2</th>\n",
              "      <td>70166734</td>\n",
              "      <td>sales (no cold calling)</td>\n",
              "      <td>Stoke-On-Trent</td>\n",
              "      <td>Oakland House Recruitment</td>\n",
              "      <td>None</td>\n",
              "      <td>permanent</td>\n",
              "      <td>Sales Jobs</td>\n",
              "      <td>15500</td>\n",
              "      <td>20120527T000000</td>\n",
              "      <td>20120626T000000</td>\n",
              "      <td>cv-library.co.uk</td>\n",
              "    </tr>\n",
              "    <tr>\n",
              "      <th>3</th>\n",
              "      <td>70763600</td>\n",
              "      <td>Nurse Medical Advisor  PART TIME</td>\n",
              "      <td>Guildford</td>\n",
              "      <td>Reed Health</td>\n",
              "      <td>part_time</td>\n",
              "      <td>None</td>\n",
              "      <td>Healthcare &amp; Nursing Jobs</td>\n",
              "      <td>31000</td>\n",
              "      <td>20130829T120000</td>\n",
              "      <td>20130912T120000</td>\n",
              "      <td>cv-library.co.uk</td>\n",
              "    </tr>\n",
              "    <tr>\n",
              "      <th>4</th>\n",
              "      <td>69559871</td>\n",
              "      <td>Sales/Customer Service Engineer</td>\n",
              "      <td>UK</td>\n",
              "      <td>Grad Central</td>\n",
              "      <td>None</td>\n",
              "      <td>permanent</td>\n",
              "      <td>Engineering Jobs</td>\n",
              "      <td>19500</td>\n",
              "      <td>20120513T120000</td>\n",
              "      <td>20120811T120000</td>\n",
              "      <td>cv-library.co.uk</td>\n",
              "    </tr>\n",
              "  </tbody>\n",
              "</table>\n",
              "</div>\n",
              "    <div class=\"colab-df-buttons\">\n",
              "\n",
              "  <div class=\"colab-df-container\">\n",
              "    <button class=\"colab-df-convert\" onclick=\"convertToInteractive('df-b96d08c9-32c2-485c-b2ce-46da2a7af5c3')\"\n",
              "            title=\"Convert this dataframe to an interactive table.\"\n",
              "            style=\"display:none;\">\n",
              "\n",
              "  <svg xmlns=\"http://www.w3.org/2000/svg\" height=\"24px\" viewBox=\"0 -960 960 960\">\n",
              "    <path d=\"M120-120v-720h720v720H120Zm60-500h600v-160H180v160Zm220 220h160v-160H400v160Zm0 220h160v-160H400v160ZM180-400h160v-160H180v160Zm440 0h160v-160H620v160ZM180-180h160v-160H180v160Zm440 0h160v-160H620v160Z\"/>\n",
              "  </svg>\n",
              "    </button>\n",
              "\n",
              "  <style>\n",
              "    .colab-df-container {\n",
              "      display:flex;\n",
              "      gap: 12px;\n",
              "    }\n",
              "\n",
              "    .colab-df-convert {\n",
              "      background-color: #E8F0FE;\n",
              "      border: none;\n",
              "      border-radius: 50%;\n",
              "      cursor: pointer;\n",
              "      display: none;\n",
              "      fill: #1967D2;\n",
              "      height: 32px;\n",
              "      padding: 0 0 0 0;\n",
              "      width: 32px;\n",
              "    }\n",
              "\n",
              "    .colab-df-convert:hover {\n",
              "      background-color: #E2EBFA;\n",
              "      box-shadow: 0px 1px 2px rgba(60, 64, 67, 0.3), 0px 1px 3px 1px rgba(60, 64, 67, 0.15);\n",
              "      fill: #174EA6;\n",
              "    }\n",
              "\n",
              "    .colab-df-buttons div {\n",
              "      margin-bottom: 4px;\n",
              "    }\n",
              "\n",
              "    [theme=dark] .colab-df-convert {\n",
              "      background-color: #3B4455;\n",
              "      fill: #D2E3FC;\n",
              "    }\n",
              "\n",
              "    [theme=dark] .colab-df-convert:hover {\n",
              "      background-color: #434B5C;\n",
              "      box-shadow: 0px 1px 3px 1px rgba(0, 0, 0, 0.15);\n",
              "      filter: drop-shadow(0px 1px 2px rgba(0, 0, 0, 0.3));\n",
              "      fill: #FFFFFF;\n",
              "    }\n",
              "  </style>\n",
              "\n",
              "    <script>\n",
              "      const buttonEl =\n",
              "        document.querySelector('#df-b96d08c9-32c2-485c-b2ce-46da2a7af5c3 button.colab-df-convert');\n",
              "      buttonEl.style.display =\n",
              "        google.colab.kernel.accessAllowed ? 'block' : 'none';\n",
              "\n",
              "      async function convertToInteractive(key) {\n",
              "        const element = document.querySelector('#df-b96d08c9-32c2-485c-b2ce-46da2a7af5c3');\n",
              "        const dataTable =\n",
              "          await google.colab.kernel.invokeFunction('convertToInteractive',\n",
              "                                                    [key], {});\n",
              "        if (!dataTable) return;\n",
              "\n",
              "        const docLinkHtml = 'Like what you see? Visit the ' +\n",
              "          '<a target=\"_blank\" href=https://colab.research.google.com/notebooks/data_table.ipynb>data table notebook</a>'\n",
              "          + ' to learn more about interactive tables.';\n",
              "        element.innerHTML = '';\n",
              "        dataTable['output_type'] = 'display_data';\n",
              "        await google.colab.output.renderOutput(dataTable, element);\n",
              "        const docLink = document.createElement('div');\n",
              "        docLink.innerHTML = docLinkHtml;\n",
              "        element.appendChild(docLink);\n",
              "      }\n",
              "    </script>\n",
              "  </div>\n",
              "\n",
              "\n",
              "<div id=\"df-84612815-e753-40ee-8ba1-201eed0e149a\">\n",
              "  <button class=\"colab-df-quickchart\" onclick=\"quickchart('df-84612815-e753-40ee-8ba1-201eed0e149a')\"\n",
              "            title=\"Suggest charts.\"\n",
              "            style=\"display:none;\">\n",
              "\n",
              "<svg xmlns=\"http://www.w3.org/2000/svg\" height=\"24px\"viewBox=\"0 0 24 24\"\n",
              "     width=\"24px\">\n",
              "    <g>\n",
              "        <path d=\"M19 3H5c-1.1 0-2 .9-2 2v14c0 1.1.9 2 2 2h14c1.1 0 2-.9 2-2V5c0-1.1-.9-2-2-2zM9 17H7v-7h2v7zm4 0h-2V7h2v10zm4 0h-2v-4h2v4z\"/>\n",
              "    </g>\n",
              "</svg>\n",
              "  </button>\n",
              "\n",
              "<style>\n",
              "  .colab-df-quickchart {\n",
              "      --bg-color: #E8F0FE;\n",
              "      --fill-color: #1967D2;\n",
              "      --hover-bg-color: #E2EBFA;\n",
              "      --hover-fill-color: #174EA6;\n",
              "      --disabled-fill-color: #AAA;\n",
              "      --disabled-bg-color: #DDD;\n",
              "  }\n",
              "\n",
              "  [theme=dark] .colab-df-quickchart {\n",
              "      --bg-color: #3B4455;\n",
              "      --fill-color: #D2E3FC;\n",
              "      --hover-bg-color: #434B5C;\n",
              "      --hover-fill-color: #FFFFFF;\n",
              "      --disabled-bg-color: #3B4455;\n",
              "      --disabled-fill-color: #666;\n",
              "  }\n",
              "\n",
              "  .colab-df-quickchart {\n",
              "    background-color: var(--bg-color);\n",
              "    border: none;\n",
              "    border-radius: 50%;\n",
              "    cursor: pointer;\n",
              "    display: none;\n",
              "    fill: var(--fill-color);\n",
              "    height: 32px;\n",
              "    padding: 0;\n",
              "    width: 32px;\n",
              "  }\n",
              "\n",
              "  .colab-df-quickchart:hover {\n",
              "    background-color: var(--hover-bg-color);\n",
              "    box-shadow: 0 1px 2px rgba(60, 64, 67, 0.3), 0 1px 3px 1px rgba(60, 64, 67, 0.15);\n",
              "    fill: var(--button-hover-fill-color);\n",
              "  }\n",
              "\n",
              "  .colab-df-quickchart-complete:disabled,\n",
              "  .colab-df-quickchart-complete:disabled:hover {\n",
              "    background-color: var(--disabled-bg-color);\n",
              "    fill: var(--disabled-fill-color);\n",
              "    box-shadow: none;\n",
              "  }\n",
              "\n",
              "  .colab-df-spinner {\n",
              "    border: 2px solid var(--fill-color);\n",
              "    border-color: transparent;\n",
              "    border-bottom-color: var(--fill-color);\n",
              "    animation:\n",
              "      spin 1s steps(1) infinite;\n",
              "  }\n",
              "\n",
              "  @keyframes spin {\n",
              "    0% {\n",
              "      border-color: transparent;\n",
              "      border-bottom-color: var(--fill-color);\n",
              "      border-left-color: var(--fill-color);\n",
              "    }\n",
              "    20% {\n",
              "      border-color: transparent;\n",
              "      border-left-color: var(--fill-color);\n",
              "      border-top-color: var(--fill-color);\n",
              "    }\n",
              "    30% {\n",
              "      border-color: transparent;\n",
              "      border-left-color: var(--fill-color);\n",
              "      border-top-color: var(--fill-color);\n",
              "      border-right-color: var(--fill-color);\n",
              "    }\n",
              "    40% {\n",
              "      border-color: transparent;\n",
              "      border-right-color: var(--fill-color);\n",
              "      border-top-color: var(--fill-color);\n",
              "    }\n",
              "    60% {\n",
              "      border-color: transparent;\n",
              "      border-right-color: var(--fill-color);\n",
              "    }\n",
              "    80% {\n",
              "      border-color: transparent;\n",
              "      border-right-color: var(--fill-color);\n",
              "      border-bottom-color: var(--fill-color);\n",
              "    }\n",
              "    90% {\n",
              "      border-color: transparent;\n",
              "      border-bottom-color: var(--fill-color);\n",
              "    }\n",
              "  }\n",
              "</style>\n",
              "\n",
              "  <script>\n",
              "    async function quickchart(key) {\n",
              "      const quickchartButtonEl =\n",
              "        document.querySelector('#' + key + ' button');\n",
              "      quickchartButtonEl.disabled = true;  // To prevent multiple clicks.\n",
              "      quickchartButtonEl.classList.add('colab-df-spinner');\n",
              "      try {\n",
              "        const charts = await google.colab.kernel.invokeFunction(\n",
              "            'suggestCharts', [key], {});\n",
              "      } catch (error) {\n",
              "        console.error('Error during call to suggestCharts:', error);\n",
              "      }\n",
              "      quickchartButtonEl.classList.remove('colab-df-spinner');\n",
              "      quickchartButtonEl.classList.add('colab-df-quickchart-complete');\n",
              "    }\n",
              "    (() => {\n",
              "      let quickchartButtonEl =\n",
              "        document.querySelector('#df-84612815-e753-40ee-8ba1-201eed0e149a button');\n",
              "      quickchartButtonEl.style.display =\n",
              "        google.colab.kernel.accessAllowed ? 'block' : 'none';\n",
              "    })();\n",
              "  </script>\n",
              "</div>\n",
              "    </div>\n",
              "  </div>\n"
            ],
            "text/plain": [
              "         Id                                 Title        Location  \\\n",
              "0  69537180            Head of Business Assurance              UK   \n",
              "1  68216910  Machine Tool Wiremen / Panel Wiremen        Bradford   \n",
              "2  70166734               sales (no cold calling)  Stoke-On-Trent   \n",
              "3  70763600      Nurse Medical Advisor  PART TIME       Guildford   \n",
              "4  69559871       Sales/Customer Service Engineer              UK   \n",
              "\n",
              "                          Company ContractType ContractTime  \\\n",
              "0             Interaction Finance         None    permanent   \n",
              "1  Network Employment Consultancy         None    permanent   \n",
              "2       Oakland House Recruitment         None    permanent   \n",
              "3                     Reed Health    part_time         None   \n",
              "4                    Grad Central         None    permanent   \n",
              "\n",
              "                    Category Salary         OpenDate        CloseDate  \\\n",
              "0  Accounting & Finance Jobs  47500  20130131T120000  20130302T120000   \n",
              "1           Engineering Jobs  23040  20130314T150000  20130612T150000   \n",
              "2                 Sales Jobs  15500  20120527T000000  20120626T000000   \n",
              "3  Healthcare & Nursing Jobs  31000  20130829T120000  20130912T120000   \n",
              "4           Engineering Jobs  19500  20120513T120000  20120811T120000   \n",
              "\n",
              "         SourceName  \n",
              "0  cv-library.co.uk  \n",
              "1  cv-library.co.uk  \n",
              "2  cv-library.co.uk  \n",
              "3  cv-library.co.uk  \n",
              "4  cv-library.co.uk  "
            ]
          },
          "execution_count": 723,
          "metadata": {},
          "output_type": "execute_result"
        }
      ],
      "source": [
        "# Create a Pandas DataFrame from the extracted data\n",
        "df = pd.DataFrame(job_data)\n",
        "df.head()"
      ]
    },
    {
      "cell_type": "markdown",
      "metadata": {
        "id": "a-gTkDfXtr9M"
      },
      "source": [
        "......"
      ]
    },
    {
      "cell_type": "markdown",
      "metadata": {
        "id": "PdywH0Nbtr9M"
      },
      "source": [
        "## Task 2. Auditing and cleansing the loaded data\n",
        "\n",
        "In this task, we will perform an audit of the loaded data, identify data problems, and apply data cleansing techniques to address these issues. We will also maintain an error list to keep track of the problems found and the actions taken to fix them."
      ]
    },
    {
      "cell_type": "code",
      "execution_count": 724,
      "metadata": {
        "colab": {
          "base_uri": "https://localhost:8080/"
        },
        "id": "7oPPSzphQCK0",
        "outputId": "059c9547-577f-4000-b67c-1dff33e25bb1"
      },
      "outputs": [
        {
          "data": {
            "text/plain": [
              "(50753, 11)"
            ]
          },
          "execution_count": 724,
          "metadata": {},
          "output_type": "execute_result"
        }
      ],
      "source": [
        "df.shape"
      ]
    },
    {
      "cell_type": "code",
      "execution_count": 725,
      "metadata": {
        "colab": {
          "base_uri": "https://localhost:8080/"
        },
        "id": "lKzCjF89TZni",
        "outputId": "c181ec61-b783-4644-d225-f68040bcc81c"
      },
      "outputs": [
        {
          "name": "stdout",
          "output_type": "stream",
          "text": [
            "<class 'pandas.core.frame.DataFrame'>\n",
            "RangeIndex: 50753 entries, 0 to 50752\n",
            "Data columns (total 11 columns):\n",
            " #   Column        Non-Null Count  Dtype \n",
            "---  ------        --------------  ----- \n",
            " 0   Id            50753 non-null  object\n",
            " 1   Title         50753 non-null  object\n",
            " 2   Location      50753 non-null  object\n",
            " 3   Company       50144 non-null  object\n",
            " 4   ContractType  27219 non-null  object\n",
            " 5   ContractTime  46561 non-null  object\n",
            " 6   Category      50753 non-null  object\n",
            " 7   Salary        50388 non-null  object\n",
            " 8   OpenDate      50753 non-null  object\n",
            " 9   CloseDate     50753 non-null  object\n",
            " 10  SourceName    50753 non-null  object\n",
            "dtypes: object(11)\n",
            "memory usage: 4.3+ MB\n"
          ]
        }
      ],
      "source": [
        "df.info()"
      ]
    },
    {
      "cell_type": "code",
      "execution_count": 726,
      "metadata": {
        "colab": {
          "base_uri": "https://localhost:8080/",
          "height": 230
        },
        "id": "DS1BJDUDTjTk",
        "outputId": "bf0382ce-e142-4cac-b993-aa13d62b6881"
      },
      "outputs": [
        {
          "data": {
            "text/html": [
              "\n",
              "  <div id=\"df-1f29c11d-3e60-4d9c-af6e-1e8297a9a8b5\" class=\"colab-df-container\">\n",
              "    <div>\n",
              "<style scoped>\n",
              "    .dataframe tbody tr th:only-of-type {\n",
              "        vertical-align: middle;\n",
              "    }\n",
              "\n",
              "    .dataframe tbody tr th {\n",
              "        vertical-align: top;\n",
              "    }\n",
              "\n",
              "    .dataframe thead th {\n",
              "        text-align: right;\n",
              "    }\n",
              "</style>\n",
              "<table border=\"1\" class=\"dataframe\">\n",
              "  <thead>\n",
              "    <tr style=\"text-align: right;\">\n",
              "      <th></th>\n",
              "      <th>Id</th>\n",
              "      <th>Title</th>\n",
              "      <th>Location</th>\n",
              "      <th>Company</th>\n",
              "      <th>ContractType</th>\n",
              "      <th>ContractTime</th>\n",
              "      <th>Category</th>\n",
              "      <th>Salary</th>\n",
              "      <th>OpenDate</th>\n",
              "      <th>CloseDate</th>\n",
              "      <th>SourceName</th>\n",
              "    </tr>\n",
              "  </thead>\n",
              "  <tbody>\n",
              "    <tr>\n",
              "      <th>count</th>\n",
              "      <td>50753</td>\n",
              "      <td>50753</td>\n",
              "      <td>50753</td>\n",
              "      <td>50144</td>\n",
              "      <td>27219</td>\n",
              "      <td>46561</td>\n",
              "      <td>50753</td>\n",
              "      <td>50388</td>\n",
              "      <td>50753</td>\n",
              "      <td>50753</td>\n",
              "      <td>50753</td>\n",
              "    </tr>\n",
              "    <tr>\n",
              "      <th>unique</th>\n",
              "      <td>50753</td>\n",
              "      <td>50750</td>\n",
              "      <td>496</td>\n",
              "      <td>8767</td>\n",
              "      <td>5</td>\n",
              "      <td>5</td>\n",
              "      <td>8</td>\n",
              "      <td>3372</td>\n",
              "      <td>2194</td>\n",
              "      <td>2415</td>\n",
              "      <td>107</td>\n",
              "    </tr>\n",
              "    <tr>\n",
              "      <th>top</th>\n",
              "      <td>69537180</td>\n",
              "      <td>Executive Credit Controller</td>\n",
              "      <td>UK</td>\n",
              "      <td></td>\n",
              "      <td>full_time</td>\n",
              "      <td>permanent</td>\n",
              "      <td>IT Jobs</td>\n",
              "      <td>35000</td>\n",
              "      <td>20130626T150000</td>\n",
              "      <td>20120508T000000</td>\n",
              "      <td>totaljobs.com</td>\n",
              "    </tr>\n",
              "    <tr>\n",
              "      <th>freq</th>\n",
              "      <td>1</td>\n",
              "      <td>2</td>\n",
              "      <td>7719</td>\n",
              "      <td>2685</td>\n",
              "      <td>11250</td>\n",
              "      <td>31025</td>\n",
              "      <td>13118</td>\n",
              "      <td>1736</td>\n",
              "      <td>41</td>\n",
              "      <td>39</td>\n",
              "      <td>9265</td>\n",
              "    </tr>\n",
              "  </tbody>\n",
              "</table>\n",
              "</div>\n",
              "    <div class=\"colab-df-buttons\">\n",
              "\n",
              "  <div class=\"colab-df-container\">\n",
              "    <button class=\"colab-df-convert\" onclick=\"convertToInteractive('df-1f29c11d-3e60-4d9c-af6e-1e8297a9a8b5')\"\n",
              "            title=\"Convert this dataframe to an interactive table.\"\n",
              "            style=\"display:none;\">\n",
              "\n",
              "  <svg xmlns=\"http://www.w3.org/2000/svg\" height=\"24px\" viewBox=\"0 -960 960 960\">\n",
              "    <path d=\"M120-120v-720h720v720H120Zm60-500h600v-160H180v160Zm220 220h160v-160H400v160Zm0 220h160v-160H400v160ZM180-400h160v-160H180v160Zm440 0h160v-160H620v160ZM180-180h160v-160H180v160Zm440 0h160v-160H620v160Z\"/>\n",
              "  </svg>\n",
              "    </button>\n",
              "\n",
              "  <style>\n",
              "    .colab-df-container {\n",
              "      display:flex;\n",
              "      gap: 12px;\n",
              "    }\n",
              "\n",
              "    .colab-df-convert {\n",
              "      background-color: #E8F0FE;\n",
              "      border: none;\n",
              "      border-radius: 50%;\n",
              "      cursor: pointer;\n",
              "      display: none;\n",
              "      fill: #1967D2;\n",
              "      height: 32px;\n",
              "      padding: 0 0 0 0;\n",
              "      width: 32px;\n",
              "    }\n",
              "\n",
              "    .colab-df-convert:hover {\n",
              "      background-color: #E2EBFA;\n",
              "      box-shadow: 0px 1px 2px rgba(60, 64, 67, 0.3), 0px 1px 3px 1px rgba(60, 64, 67, 0.15);\n",
              "      fill: #174EA6;\n",
              "    }\n",
              "\n",
              "    .colab-df-buttons div {\n",
              "      margin-bottom: 4px;\n",
              "    }\n",
              "\n",
              "    [theme=dark] .colab-df-convert {\n",
              "      background-color: #3B4455;\n",
              "      fill: #D2E3FC;\n",
              "    }\n",
              "\n",
              "    [theme=dark] .colab-df-convert:hover {\n",
              "      background-color: #434B5C;\n",
              "      box-shadow: 0px 1px 3px 1px rgba(0, 0, 0, 0.15);\n",
              "      filter: drop-shadow(0px 1px 2px rgba(0, 0, 0, 0.3));\n",
              "      fill: #FFFFFF;\n",
              "    }\n",
              "  </style>\n",
              "\n",
              "    <script>\n",
              "      const buttonEl =\n",
              "        document.querySelector('#df-1f29c11d-3e60-4d9c-af6e-1e8297a9a8b5 button.colab-df-convert');\n",
              "      buttonEl.style.display =\n",
              "        google.colab.kernel.accessAllowed ? 'block' : 'none';\n",
              "\n",
              "      async function convertToInteractive(key) {\n",
              "        const element = document.querySelector('#df-1f29c11d-3e60-4d9c-af6e-1e8297a9a8b5');\n",
              "        const dataTable =\n",
              "          await google.colab.kernel.invokeFunction('convertToInteractive',\n",
              "                                                    [key], {});\n",
              "        if (!dataTable) return;\n",
              "\n",
              "        const docLinkHtml = 'Like what you see? Visit the ' +\n",
              "          '<a target=\"_blank\" href=https://colab.research.google.com/notebooks/data_table.ipynb>data table notebook</a>'\n",
              "          + ' to learn more about interactive tables.';\n",
              "        element.innerHTML = '';\n",
              "        dataTable['output_type'] = 'display_data';\n",
              "        await google.colab.output.renderOutput(dataTable, element);\n",
              "        const docLink = document.createElement('div');\n",
              "        docLink.innerHTML = docLinkHtml;\n",
              "        element.appendChild(docLink);\n",
              "      }\n",
              "    </script>\n",
              "  </div>\n",
              "\n",
              "\n",
              "<div id=\"df-81342e7d-a3e9-454b-b1d5-dd7fb18027b2\">\n",
              "  <button class=\"colab-df-quickchart\" onclick=\"quickchart('df-81342e7d-a3e9-454b-b1d5-dd7fb18027b2')\"\n",
              "            title=\"Suggest charts.\"\n",
              "            style=\"display:none;\">\n",
              "\n",
              "<svg xmlns=\"http://www.w3.org/2000/svg\" height=\"24px\"viewBox=\"0 0 24 24\"\n",
              "     width=\"24px\">\n",
              "    <g>\n",
              "        <path d=\"M19 3H5c-1.1 0-2 .9-2 2v14c0 1.1.9 2 2 2h14c1.1 0 2-.9 2-2V5c0-1.1-.9-2-2-2zM9 17H7v-7h2v7zm4 0h-2V7h2v10zm4 0h-2v-4h2v4z\"/>\n",
              "    </g>\n",
              "</svg>\n",
              "  </button>\n",
              "\n",
              "<style>\n",
              "  .colab-df-quickchart {\n",
              "      --bg-color: #E8F0FE;\n",
              "      --fill-color: #1967D2;\n",
              "      --hover-bg-color: #E2EBFA;\n",
              "      --hover-fill-color: #174EA6;\n",
              "      --disabled-fill-color: #AAA;\n",
              "      --disabled-bg-color: #DDD;\n",
              "  }\n",
              "\n",
              "  [theme=dark] .colab-df-quickchart {\n",
              "      --bg-color: #3B4455;\n",
              "      --fill-color: #D2E3FC;\n",
              "      --hover-bg-color: #434B5C;\n",
              "      --hover-fill-color: #FFFFFF;\n",
              "      --disabled-bg-color: #3B4455;\n",
              "      --disabled-fill-color: #666;\n",
              "  }\n",
              "\n",
              "  .colab-df-quickchart {\n",
              "    background-color: var(--bg-color);\n",
              "    border: none;\n",
              "    border-radius: 50%;\n",
              "    cursor: pointer;\n",
              "    display: none;\n",
              "    fill: var(--fill-color);\n",
              "    height: 32px;\n",
              "    padding: 0;\n",
              "    width: 32px;\n",
              "  }\n",
              "\n",
              "  .colab-df-quickchart:hover {\n",
              "    background-color: var(--hover-bg-color);\n",
              "    box-shadow: 0 1px 2px rgba(60, 64, 67, 0.3), 0 1px 3px 1px rgba(60, 64, 67, 0.15);\n",
              "    fill: var(--button-hover-fill-color);\n",
              "  }\n",
              "\n",
              "  .colab-df-quickchart-complete:disabled,\n",
              "  .colab-df-quickchart-complete:disabled:hover {\n",
              "    background-color: var(--disabled-bg-color);\n",
              "    fill: var(--disabled-fill-color);\n",
              "    box-shadow: none;\n",
              "  }\n",
              "\n",
              "  .colab-df-spinner {\n",
              "    border: 2px solid var(--fill-color);\n",
              "    border-color: transparent;\n",
              "    border-bottom-color: var(--fill-color);\n",
              "    animation:\n",
              "      spin 1s steps(1) infinite;\n",
              "  }\n",
              "\n",
              "  @keyframes spin {\n",
              "    0% {\n",
              "      border-color: transparent;\n",
              "      border-bottom-color: var(--fill-color);\n",
              "      border-left-color: var(--fill-color);\n",
              "    }\n",
              "    20% {\n",
              "      border-color: transparent;\n",
              "      border-left-color: var(--fill-color);\n",
              "      border-top-color: var(--fill-color);\n",
              "    }\n",
              "    30% {\n",
              "      border-color: transparent;\n",
              "      border-left-color: var(--fill-color);\n",
              "      border-top-color: var(--fill-color);\n",
              "      border-right-color: var(--fill-color);\n",
              "    }\n",
              "    40% {\n",
              "      border-color: transparent;\n",
              "      border-right-color: var(--fill-color);\n",
              "      border-top-color: var(--fill-color);\n",
              "    }\n",
              "    60% {\n",
              "      border-color: transparent;\n",
              "      border-right-color: var(--fill-color);\n",
              "    }\n",
              "    80% {\n",
              "      border-color: transparent;\n",
              "      border-right-color: var(--fill-color);\n",
              "      border-bottom-color: var(--fill-color);\n",
              "    }\n",
              "    90% {\n",
              "      border-color: transparent;\n",
              "      border-bottom-color: var(--fill-color);\n",
              "    }\n",
              "  }\n",
              "</style>\n",
              "\n",
              "  <script>\n",
              "    async function quickchart(key) {\n",
              "      const quickchartButtonEl =\n",
              "        document.querySelector('#' + key + ' button');\n",
              "      quickchartButtonEl.disabled = true;  // To prevent multiple clicks.\n",
              "      quickchartButtonEl.classList.add('colab-df-spinner');\n",
              "      try {\n",
              "        const charts = await google.colab.kernel.invokeFunction(\n",
              "            'suggestCharts', [key], {});\n",
              "      } catch (error) {\n",
              "        console.error('Error during call to suggestCharts:', error);\n",
              "      }\n",
              "      quickchartButtonEl.classList.remove('colab-df-spinner');\n",
              "      quickchartButtonEl.classList.add('colab-df-quickchart-complete');\n",
              "    }\n",
              "    (() => {\n",
              "      let quickchartButtonEl =\n",
              "        document.querySelector('#df-81342e7d-a3e9-454b-b1d5-dd7fb18027b2 button');\n",
              "      quickchartButtonEl.style.display =\n",
              "        google.colab.kernel.accessAllowed ? 'block' : 'none';\n",
              "    })();\n",
              "  </script>\n",
              "</div>\n",
              "    </div>\n",
              "  </div>\n"
            ],
            "text/plain": [
              "              Id                        Title Location Company ContractType  \\\n",
              "count      50753                        50753    50753   50144        27219   \n",
              "unique     50753                        50750      496    8767            5   \n",
              "top     69537180  Executive Credit Controller       UK            full_time   \n",
              "freq           1                            2     7719    2685        11250   \n",
              "\n",
              "       ContractTime Category Salary         OpenDate        CloseDate  \\\n",
              "count         46561    50753  50388            50753            50753   \n",
              "unique            5        8   3372             2194             2415   \n",
              "top       permanent  IT Jobs  35000  20130626T150000  20120508T000000   \n",
              "freq          31025    13118   1736               41               39   \n",
              "\n",
              "           SourceName  \n",
              "count           50753  \n",
              "unique            107  \n",
              "top     totaljobs.com  \n",
              "freq             9265  "
            ]
          },
          "execution_count": 726,
          "metadata": {},
          "output_type": "execute_result"
        }
      ],
      "source": [
        "df.describe()"
      ]
    },
    {
      "cell_type": "code",
      "execution_count": 727,
      "metadata": {
        "colab": {
          "base_uri": "https://localhost:8080/"
        },
        "id": "KAy3D0N6Tsnc",
        "outputId": "9d2aa814-d671-4778-ba78-9d512d753b5e"
      },
      "outputs": [
        {
          "data": {
            "text/plain": [
              "Id                  0\n",
              "Title               0\n",
              "Location            0\n",
              "Company           609\n",
              "ContractType    23534\n",
              "ContractTime     4192\n",
              "Category            0\n",
              "Salary            365\n",
              "OpenDate            0\n",
              "CloseDate           0\n",
              "SourceName          0\n",
              "dtype: int64"
            ]
          },
          "execution_count": 727,
          "metadata": {},
          "output_type": "execute_result"
        }
      ],
      "source": [
        "df.isnull().sum() #count the number of missing/null values"
      ]
    },
    {
      "cell_type": "markdown",
      "metadata": {
        "id": "gsgkjUmyrnmZ"
      },
      "source": [
        "- The 'Company' column has 609 missing values, indicating that some job listings do not specify the company name.\n",
        "\n",
        "- The 'ContractType' column shows 23,534 missing values, suggesting that a significant portion of job listings lacks information about contract types (e.g., full-time or part-time).\n",
        "\n",
        "- In the 'ContractTime' column, there are 4,192 missing values, indicating that some job listings do not mention the contract duration (e.g., permanent or contract).\n",
        "\n",
        "- Additionally, there are 365 missing values in the 'Salary' column, suggesting that some job listings lack salary information."
      ]
    },
    {
      "cell_type": "code",
      "execution_count": 728,
      "metadata": {
        "colab": {
          "base_uri": "https://localhost:8080/",
          "height": 400
        },
        "id": "kbFjBtU2ZA9F",
        "outputId": "988a3e3d-5b1a-4430-c320-7b023962d81b"
      },
      "outputs": [
        {
          "data": {
            "text/html": [
              "\n",
              "  <div id=\"df-8f2e1de9-7dec-425f-9913-358414d1e691\" class=\"colab-df-container\">\n",
              "    <div>\n",
              "<style scoped>\n",
              "    .dataframe tbody tr th:only-of-type {\n",
              "        vertical-align: middle;\n",
              "    }\n",
              "\n",
              "    .dataframe tbody tr th {\n",
              "        vertical-align: top;\n",
              "    }\n",
              "\n",
              "    .dataframe thead th {\n",
              "        text-align: right;\n",
              "    }\n",
              "</style>\n",
              "<table border=\"1\" class=\"dataframe\">\n",
              "  <thead>\n",
              "    <tr style=\"text-align: right;\">\n",
              "      <th></th>\n",
              "      <th>Id</th>\n",
              "      <th>Title</th>\n",
              "      <th>Location</th>\n",
              "      <th>Company</th>\n",
              "      <th>ContractType</th>\n",
              "      <th>ContractTime</th>\n",
              "      <th>Category</th>\n",
              "      <th>Salary</th>\n",
              "      <th>OpenDate</th>\n",
              "      <th>CloseDate</th>\n",
              "      <th>SourceName</th>\n",
              "    </tr>\n",
              "  </thead>\n",
              "  <tbody>\n",
              "    <tr>\n",
              "      <th>0</th>\n",
              "      <td>69537180</td>\n",
              "      <td>Head of Business Assurance</td>\n",
              "      <td>UK</td>\n",
              "      <td>Interaction Finance</td>\n",
              "      <td>None</td>\n",
              "      <td>permanent</td>\n",
              "      <td>Accounting &amp; Finance Jobs</td>\n",
              "      <td>47500</td>\n",
              "      <td>20130131T120000</td>\n",
              "      <td>20130302T120000</td>\n",
              "      <td>cv-library.co.uk</td>\n",
              "    </tr>\n",
              "    <tr>\n",
              "      <th>1</th>\n",
              "      <td>68216910</td>\n",
              "      <td>Machine Tool Wiremen / Panel Wiremen</td>\n",
              "      <td>Bradford</td>\n",
              "      <td>Network Employment Consultancy</td>\n",
              "      <td>None</td>\n",
              "      <td>permanent</td>\n",
              "      <td>Engineering Jobs</td>\n",
              "      <td>23040</td>\n",
              "      <td>20130314T150000</td>\n",
              "      <td>20130612T150000</td>\n",
              "      <td>cv-library.co.uk</td>\n",
              "    </tr>\n",
              "    <tr>\n",
              "      <th>2</th>\n",
              "      <td>70166734</td>\n",
              "      <td>sales (no cold calling)</td>\n",
              "      <td>Stoke-On-Trent</td>\n",
              "      <td>Oakland House Recruitment</td>\n",
              "      <td>None</td>\n",
              "      <td>permanent</td>\n",
              "      <td>Sales Jobs</td>\n",
              "      <td>15500</td>\n",
              "      <td>20120527T000000</td>\n",
              "      <td>20120626T000000</td>\n",
              "      <td>cv-library.co.uk</td>\n",
              "    </tr>\n",
              "    <tr>\n",
              "      <th>3</th>\n",
              "      <td>70763600</td>\n",
              "      <td>Nurse Medical Advisor  PART TIME</td>\n",
              "      <td>Guildford</td>\n",
              "      <td>Reed Health</td>\n",
              "      <td>part_time</td>\n",
              "      <td>None</td>\n",
              "      <td>Healthcare &amp; Nursing Jobs</td>\n",
              "      <td>31000</td>\n",
              "      <td>20130829T120000</td>\n",
              "      <td>20130912T120000</td>\n",
              "      <td>cv-library.co.uk</td>\n",
              "    </tr>\n",
              "    <tr>\n",
              "      <th>4</th>\n",
              "      <td>69559871</td>\n",
              "      <td>Sales/Customer Service Engineer</td>\n",
              "      <td>UK</td>\n",
              "      <td>Grad Central</td>\n",
              "      <td>None</td>\n",
              "      <td>permanent</td>\n",
              "      <td>Engineering Jobs</td>\n",
              "      <td>19500</td>\n",
              "      <td>20120513T120000</td>\n",
              "      <td>20120811T120000</td>\n",
              "      <td>cv-library.co.uk</td>\n",
              "    </tr>\n",
              "  </tbody>\n",
              "</table>\n",
              "</div>\n",
              "    <div class=\"colab-df-buttons\">\n",
              "\n",
              "  <div class=\"colab-df-container\">\n",
              "    <button class=\"colab-df-convert\" onclick=\"convertToInteractive('df-8f2e1de9-7dec-425f-9913-358414d1e691')\"\n",
              "            title=\"Convert this dataframe to an interactive table.\"\n",
              "            style=\"display:none;\">\n",
              "\n",
              "  <svg xmlns=\"http://www.w3.org/2000/svg\" height=\"24px\" viewBox=\"0 -960 960 960\">\n",
              "    <path d=\"M120-120v-720h720v720H120Zm60-500h600v-160H180v160Zm220 220h160v-160H400v160Zm0 220h160v-160H400v160ZM180-400h160v-160H180v160Zm440 0h160v-160H620v160ZM180-180h160v-160H180v160Zm440 0h160v-160H620v160Z\"/>\n",
              "  </svg>\n",
              "    </button>\n",
              "\n",
              "  <style>\n",
              "    .colab-df-container {\n",
              "      display:flex;\n",
              "      gap: 12px;\n",
              "    }\n",
              "\n",
              "    .colab-df-convert {\n",
              "      background-color: #E8F0FE;\n",
              "      border: none;\n",
              "      border-radius: 50%;\n",
              "      cursor: pointer;\n",
              "      display: none;\n",
              "      fill: #1967D2;\n",
              "      height: 32px;\n",
              "      padding: 0 0 0 0;\n",
              "      width: 32px;\n",
              "    }\n",
              "\n",
              "    .colab-df-convert:hover {\n",
              "      background-color: #E2EBFA;\n",
              "      box-shadow: 0px 1px 2px rgba(60, 64, 67, 0.3), 0px 1px 3px 1px rgba(60, 64, 67, 0.15);\n",
              "      fill: #174EA6;\n",
              "    }\n",
              "\n",
              "    .colab-df-buttons div {\n",
              "      margin-bottom: 4px;\n",
              "    }\n",
              "\n",
              "    [theme=dark] .colab-df-convert {\n",
              "      background-color: #3B4455;\n",
              "      fill: #D2E3FC;\n",
              "    }\n",
              "\n",
              "    [theme=dark] .colab-df-convert:hover {\n",
              "      background-color: #434B5C;\n",
              "      box-shadow: 0px 1px 3px 1px rgba(0, 0, 0, 0.15);\n",
              "      filter: drop-shadow(0px 1px 2px rgba(0, 0, 0, 0.3));\n",
              "      fill: #FFFFFF;\n",
              "    }\n",
              "  </style>\n",
              "\n",
              "    <script>\n",
              "      const buttonEl =\n",
              "        document.querySelector('#df-8f2e1de9-7dec-425f-9913-358414d1e691 button.colab-df-convert');\n",
              "      buttonEl.style.display =\n",
              "        google.colab.kernel.accessAllowed ? 'block' : 'none';\n",
              "\n",
              "      async function convertToInteractive(key) {\n",
              "        const element = document.querySelector('#df-8f2e1de9-7dec-425f-9913-358414d1e691');\n",
              "        const dataTable =\n",
              "          await google.colab.kernel.invokeFunction('convertToInteractive',\n",
              "                                                    [key], {});\n",
              "        if (!dataTable) return;\n",
              "\n",
              "        const docLinkHtml = 'Like what you see? Visit the ' +\n",
              "          '<a target=\"_blank\" href=https://colab.research.google.com/notebooks/data_table.ipynb>data table notebook</a>'\n",
              "          + ' to learn more about interactive tables.';\n",
              "        element.innerHTML = '';\n",
              "        dataTable['output_type'] = 'display_data';\n",
              "        await google.colab.output.renderOutput(dataTable, element);\n",
              "        const docLink = document.createElement('div');\n",
              "        docLink.innerHTML = docLinkHtml;\n",
              "        element.appendChild(docLink);\n",
              "      }\n",
              "    </script>\n",
              "  </div>\n",
              "\n",
              "\n",
              "<div id=\"df-c08d4582-dc82-425c-a1cd-6ef9a3b97833\">\n",
              "  <button class=\"colab-df-quickchart\" onclick=\"quickchart('df-c08d4582-dc82-425c-a1cd-6ef9a3b97833')\"\n",
              "            title=\"Suggest charts.\"\n",
              "            style=\"display:none;\">\n",
              "\n",
              "<svg xmlns=\"http://www.w3.org/2000/svg\" height=\"24px\"viewBox=\"0 0 24 24\"\n",
              "     width=\"24px\">\n",
              "    <g>\n",
              "        <path d=\"M19 3H5c-1.1 0-2 .9-2 2v14c0 1.1.9 2 2 2h14c1.1 0 2-.9 2-2V5c0-1.1-.9-2-2-2zM9 17H7v-7h2v7zm4 0h-2V7h2v10zm4 0h-2v-4h2v4z\"/>\n",
              "    </g>\n",
              "</svg>\n",
              "  </button>\n",
              "\n",
              "<style>\n",
              "  .colab-df-quickchart {\n",
              "      --bg-color: #E8F0FE;\n",
              "      --fill-color: #1967D2;\n",
              "      --hover-bg-color: #E2EBFA;\n",
              "      --hover-fill-color: #174EA6;\n",
              "      --disabled-fill-color: #AAA;\n",
              "      --disabled-bg-color: #DDD;\n",
              "  }\n",
              "\n",
              "  [theme=dark] .colab-df-quickchart {\n",
              "      --bg-color: #3B4455;\n",
              "      --fill-color: #D2E3FC;\n",
              "      --hover-bg-color: #434B5C;\n",
              "      --hover-fill-color: #FFFFFF;\n",
              "      --disabled-bg-color: #3B4455;\n",
              "      --disabled-fill-color: #666;\n",
              "  }\n",
              "\n",
              "  .colab-df-quickchart {\n",
              "    background-color: var(--bg-color);\n",
              "    border: none;\n",
              "    border-radius: 50%;\n",
              "    cursor: pointer;\n",
              "    display: none;\n",
              "    fill: var(--fill-color);\n",
              "    height: 32px;\n",
              "    padding: 0;\n",
              "    width: 32px;\n",
              "  }\n",
              "\n",
              "  .colab-df-quickchart:hover {\n",
              "    background-color: var(--hover-bg-color);\n",
              "    box-shadow: 0 1px 2px rgba(60, 64, 67, 0.3), 0 1px 3px 1px rgba(60, 64, 67, 0.15);\n",
              "    fill: var(--button-hover-fill-color);\n",
              "  }\n",
              "\n",
              "  .colab-df-quickchart-complete:disabled,\n",
              "  .colab-df-quickchart-complete:disabled:hover {\n",
              "    background-color: var(--disabled-bg-color);\n",
              "    fill: var(--disabled-fill-color);\n",
              "    box-shadow: none;\n",
              "  }\n",
              "\n",
              "  .colab-df-spinner {\n",
              "    border: 2px solid var(--fill-color);\n",
              "    border-color: transparent;\n",
              "    border-bottom-color: var(--fill-color);\n",
              "    animation:\n",
              "      spin 1s steps(1) infinite;\n",
              "  }\n",
              "\n",
              "  @keyframes spin {\n",
              "    0% {\n",
              "      border-color: transparent;\n",
              "      border-bottom-color: var(--fill-color);\n",
              "      border-left-color: var(--fill-color);\n",
              "    }\n",
              "    20% {\n",
              "      border-color: transparent;\n",
              "      border-left-color: var(--fill-color);\n",
              "      border-top-color: var(--fill-color);\n",
              "    }\n",
              "    30% {\n",
              "      border-color: transparent;\n",
              "      border-left-color: var(--fill-color);\n",
              "      border-top-color: var(--fill-color);\n",
              "      border-right-color: var(--fill-color);\n",
              "    }\n",
              "    40% {\n",
              "      border-color: transparent;\n",
              "      border-right-color: var(--fill-color);\n",
              "      border-top-color: var(--fill-color);\n",
              "    }\n",
              "    60% {\n",
              "      border-color: transparent;\n",
              "      border-right-color: var(--fill-color);\n",
              "    }\n",
              "    80% {\n",
              "      border-color: transparent;\n",
              "      border-right-color: var(--fill-color);\n",
              "      border-bottom-color: var(--fill-color);\n",
              "    }\n",
              "    90% {\n",
              "      border-color: transparent;\n",
              "      border-bottom-color: var(--fill-color);\n",
              "    }\n",
              "  }\n",
              "</style>\n",
              "\n",
              "  <script>\n",
              "    async function quickchart(key) {\n",
              "      const quickchartButtonEl =\n",
              "        document.querySelector('#' + key + ' button');\n",
              "      quickchartButtonEl.disabled = true;  // To prevent multiple clicks.\n",
              "      quickchartButtonEl.classList.add('colab-df-spinner');\n",
              "      try {\n",
              "        const charts = await google.colab.kernel.invokeFunction(\n",
              "            'suggestCharts', [key], {});\n",
              "      } catch (error) {\n",
              "        console.error('Error during call to suggestCharts:', error);\n",
              "      }\n",
              "      quickchartButtonEl.classList.remove('colab-df-spinner');\n",
              "      quickchartButtonEl.classList.add('colab-df-quickchart-complete');\n",
              "    }\n",
              "    (() => {\n",
              "      let quickchartButtonEl =\n",
              "        document.querySelector('#df-c08d4582-dc82-425c-a1cd-6ef9a3b97833 button');\n",
              "      quickchartButtonEl.style.display =\n",
              "        google.colab.kernel.accessAllowed ? 'block' : 'none';\n",
              "    })();\n",
              "  </script>\n",
              "</div>\n",
              "    </div>\n",
              "  </div>\n"
            ],
            "text/plain": [
              "         Id                                 Title        Location  \\\n",
              "0  69537180            Head of Business Assurance              UK   \n",
              "1  68216910  Machine Tool Wiremen / Panel Wiremen        Bradford   \n",
              "2  70166734               sales (no cold calling)  Stoke-On-Trent   \n",
              "3  70763600      Nurse Medical Advisor  PART TIME       Guildford   \n",
              "4  69559871       Sales/Customer Service Engineer              UK   \n",
              "\n",
              "                          Company ContractType ContractTime  \\\n",
              "0             Interaction Finance         None    permanent   \n",
              "1  Network Employment Consultancy         None    permanent   \n",
              "2       Oakland House Recruitment         None    permanent   \n",
              "3                     Reed Health    part_time         None   \n",
              "4                    Grad Central         None    permanent   \n",
              "\n",
              "                    Category Salary         OpenDate        CloseDate  \\\n",
              "0  Accounting & Finance Jobs  47500  20130131T120000  20130302T120000   \n",
              "1           Engineering Jobs  23040  20130314T150000  20130612T150000   \n",
              "2                 Sales Jobs  15500  20120527T000000  20120626T000000   \n",
              "3  Healthcare & Nursing Jobs  31000  20130829T120000  20130912T120000   \n",
              "4           Engineering Jobs  19500  20120513T120000  20120811T120000   \n",
              "\n",
              "         SourceName  \n",
              "0  cv-library.co.uk  \n",
              "1  cv-library.co.uk  \n",
              "2  cv-library.co.uk  \n",
              "3  cv-library.co.uk  \n",
              "4  cv-library.co.uk  "
            ]
          },
          "execution_count": 728,
          "metadata": {},
          "output_type": "execute_result"
        }
      ],
      "source": [
        "## Making copy of dataframe as data_data\n",
        "df_data = df.copy()\n",
        "## priting copied data frame\n",
        "df_data.head()\n"
      ]
    },
    {
      "cell_type": "code",
      "execution_count": 729,
      "metadata": {
        "colab": {
          "base_uri": "https://localhost:8080/"
        },
        "id": "5GjgkNzPSuRU",
        "outputId": "cfa7a9b1-e0d4-4f14-b0eb-855c315cb60b"
      },
      "outputs": [
        {
          "data": {
            "text/plain": [
              "69537180    1\n",
              "69669961    1\n",
              "69669222    1\n",
              "70519539    1\n",
              "68544641    1\n",
              "           ..\n",
              "72453830    1\n",
              "69995088    1\n",
              "72439508    1\n",
              "72241288    1\n",
              "66372417    1\n",
              "Name: Id, Length: 50753, dtype: int64"
            ]
          },
          "execution_count": 729,
          "metadata": {},
          "output_type": "execute_result"
        }
      ],
      "source": [
        "df_data['Id'].value_counts()"
      ]
    },
    {
      "cell_type": "code",
      "execution_count": 730,
      "metadata": {
        "colab": {
          "base_uri": "https://localhost:8080/"
        },
        "id": "ULb0sRZeSxpi",
        "outputId": "e5ebfd12-621b-4d8e-bd85-b1d3769bf6d7"
      },
      "outputs": [
        {
          "data": {
            "text/plain": [
              "Executive Credit Controller                         2\n",
              "Mobile Crane Training Officer                       2\n",
              "Business Analyst  Investment Bank/Credit/Risk/BI    2\n",
              "Head of Business Assurance                          1\n",
              "Regional Facilities Manager  North West England     1\n",
              "                                                   ..\n",
              "PQ FP&A Analyst                                     1\n",
              "Dialler HelpDesk Consultant                         1\n",
              "Academy Manager Birmingham                          1\n",
              "Sales Negotiator Wanted – Hackney                   1\n",
              "Graduate Engineer (Water industry)                  1\n",
              "Name: Title, Length: 50750, dtype: int64"
            ]
          },
          "execution_count": 730,
          "metadata": {},
          "output_type": "execute_result"
        }
      ],
      "source": [
        "df_data['Title'].value_counts()"
      ]
    },
    {
      "cell_type": "code",
      "execution_count": 731,
      "metadata": {
        "colab": {
          "base_uri": "https://localhost:8080/"
        },
        "id": "qNlY7xhyS2Io",
        "outputId": "1e4058bc-69a2-45a8-f7d3-0ecae89e9746"
      },
      "outputs": [
        {
          "data": {
            "text/plain": [
              "UK                   7719\n",
              "London               6570\n",
              "South East London    2665\n",
              "The City             1145\n",
              "Central London        829\n",
              "                     ... \n",
              "HAMpshire               1\n",
              "Oxfords                 1\n",
              "Manchaster              1\n",
              "Livepool                1\n",
              "birmingham              1\n",
              "Name: Location, Length: 496, dtype: int64"
            ]
          },
          "execution_count": 731,
          "metadata": {},
          "output_type": "execute_result"
        }
      ],
      "source": [
        "df_data['Location'].value_counts()"
      ]
    },
    {
      "cell_type": "markdown",
      "metadata": {
        "id": "lX8UPylxnHvx"
      },
      "source": [
        "The output reveals that the majority of job listings are in the UK and London, while various other locations are also present. This also exposes location data inconsistencies, including typographical errors like 'Manchaster' and 'Livepool' and inconsistent capitalization such as 'HAMpshire.' These discrepancies in spelling and case indicate data quality concerns, necessitating data cleaning and standardization for accuracy."
      ]
    },
    {
      "cell_type": "code",
      "execution_count": 732,
      "metadata": {
        "colab": {
          "base_uri": "https://localhost:8080/"
        },
        "id": "dEiaYdqcUJHv",
        "outputId": "72a1fa99-3c72-4e33-9ab0-f0e89c30e424"
      },
      "outputs": [
        {
          "data": {
            "text/plain": [
              "                   2685\n",
              "N/A                1227\n",
              "UKStaffsearch       451\n",
              "-                   414\n",
              "Randstad            374\n",
              "                   ... \n",
              "Millsys               1\n",
              "Sojourn Hotels        1\n",
              "SHARE Community       1\n",
              "Longhirst Hall        1\n",
              "Group Cytek           1\n",
              "Name: Company, Length: 8767, dtype: int64"
            ]
          },
          "execution_count": 732,
          "metadata": {},
          "output_type": "execute_result"
        }
      ],
      "source": [
        "df_data['Company'].value_counts()"
      ]
    },
    {
      "cell_type": "markdown",
      "metadata": {
        "id": "Jjg10FYSoI9Z"
      },
      "source": [
        "When we look at the information about the companies in the dataset, we notice a few important things. First, there are many job listings (2685 to be exact) where we don't know the name of the company. It's like seeing a job ad but not knowing who's offering the job. There are also 1227 listings that simply say 'N/A' for the company name, which means the same thing - we don't know the company.\n",
        "\n",
        "On top of that, there are lots of different company names in the dataset. Some are specific, like 'UKStaffsearch,' while others are a bit strange, like just a hyphen ('-') or nothing at all. These odd entries can make it hard to understand who's hiring for these jobs.\n",
        "\n",
        "These issues with company names might make it tricky to analyze the data properly. To make things better, we need to fix these problems. We should decide what to do with the missing company names"
      ]
    },
    {
      "cell_type": "code",
      "execution_count": 733,
      "metadata": {
        "colab": {
          "base_uri": "https://localhost:8080/"
        },
        "id": "pXl5v6IQUOk5",
        "outputId": "ac5ff5b6-c631-4754-8033-29a8c8f84c00"
      },
      "outputs": [
        {
          "data": {
            "text/plain": [
              "full_time    11250\n",
              "              5944\n",
              "-             5824\n",
              "N/A           2780\n",
              "part_time     1421\n",
              "Name: ContractType, dtype: int64"
            ]
          },
          "execution_count": 733,
          "metadata": {},
          "output_type": "execute_result"
        }
      ],
      "source": [
        "df_data['ContractType'].value_counts()"
      ]
    },
    {
      "cell_type": "markdown",
      "metadata": {
        "id": "C8QxzXoGoyK7"
      },
      "source": [
        "In the data, we looked at the 'ContractType' column, which tells us what kind of contracts job listings offer. We found that most jobs, about 11,250 of them, are labeled as 'full_time,' meaning they require full-time work. However, there's a problem with nearly 5,944 job listings; they don't tell us whether they're full-time, part-time, or something else. It's like missing information. Additionally, there are entries with hyphens ('-') and 'N/A' in this column, which are also unclear and might mean missing information."
      ]
    },
    {
      "cell_type": "code",
      "execution_count": 734,
      "metadata": {
        "colab": {
          "base_uri": "https://localhost:8080/",
          "height": 564
        },
        "id": "4Ac1Q648tHOg",
        "outputId": "a1fba4b2-29ed-4bc1-b9c7-8f8d0a3875c1"
      },
      "outputs": [
        {
          "data": {
            "image/png": "[encoded data removed]",
            "text/plain": [
              "<Figure size 800x600 with 1 Axes>"
            ]
          },
          "metadata": {},
          "output_type": "display_data"
        }
      ],
      "source": [
        "# DataFrame called 'df_data' with the 'ContractTime' column\n",
        "\n",
        "# Get the value counts for 'ContractTime'\n",
        "contract_time_counts = df_data['ContractType'].value_counts()\n",
        "\n",
        "# Create a bar chart\n",
        "plt.figure(figsize=(8, 6))\n",
        "contract_time_counts.plot(kind='bar', color='Pink', edgecolor='black')\n",
        "plt.title('Distribution of Contract Type')\n",
        "plt.xlabel('Contract Type')\n",
        "plt.ylabel('Number of Listings')\n",
        "plt.xticks(rotation=0)\n",
        "plt.show()\n"
      ]
    },
    {
      "cell_type": "code",
      "execution_count": 735,
      "metadata": {
        "colab": {
          "base_uri": "https://localhost:8080/"
        },
        "id": "8rBPDRuaUS8S",
        "outputId": "a518e804-89db-4438-ce34-ed1c396db082"
      },
      "outputs": [
        {
          "data": {
            "text/plain": [
              "permanent    31025\n",
              "              7611\n",
              "contract      5628\n",
              "-             1196\n",
              "N/A           1101\n",
              "Name: ContractTime, dtype: int64"
            ]
          },
          "execution_count": 735,
          "metadata": {},
          "output_type": "execute_result"
        }
      ],
      "source": [
        "df_data['ContractTime'].value_counts()"
      ]
    },
    {
      "cell_type": "markdown",
      "metadata": {
        "id": "8xhIU9K9pUae"
      },
      "source": [
        "In the dataset's 'ContractTime' column, we found that 'permanent' jobs are the most common, with 31,025 listings. However, there's a challenge: about 7,611 job listings don't mention whether the jobs are permanent or temporary. This missing information is like a piece of the puzzle that's not there. Additionally, there are entries with 'contract' as the contract time, which is different from 'permanent.' Some listings have hyphens ('-') or 'N/A' in this column, which means it's unclear or missing."
      ]
    },
    {
      "cell_type": "code",
      "execution_count": 736,
      "metadata": {
        "colab": {
          "base_uri": "https://localhost:8080/",
          "height": 564
        },
        "id": "Ubbr8vvGs9XJ",
        "outputId": "73447a5d-f23f-4cf9-e4e8-11c319daa844"
      },
      "outputs": [
        {
          "data": {
            "image/png": "[encoded data removed]",
            "text/plain": [
              "<Figure size 800x600 with 1 Axes>"
            ]
          },
          "metadata": {},
          "output_type": "display_data"
        }
      ],
      "source": [
        "# DataFrame called 'df_data' with the 'ContractTime' column\n",
        "\n",
        "# Get the value counts for 'ContractTime'\n",
        "contract_time_counts = df_data['ContractTime'].value_counts()\n",
        "\n",
        "# Create a bar chart\n",
        "plt.figure(figsize=(8, 6))\n",
        "contract_time_counts.plot(kind='bar', color='skyblue', edgecolor='black')\n",
        "plt.title('Distribution of Contract Time')\n",
        "plt.xlabel('Contract Time')\n",
        "plt.ylabel('Number of Listings')\n",
        "plt.xticks(rotation=0)\n",
        "plt.show()\n"
      ]
    },
    {
      "cell_type": "code",
      "execution_count": 737,
      "metadata": {
        "colab": {
          "base_uri": "https://localhost:8080/"
        },
        "id": "eLr6gDfaTCnc",
        "outputId": "11a016fc-0a54-4941-f968-e4f9b91b53da"
      },
      "outputs": [
        {
          "data": {
            "text/plain": [
              "IT Jobs                             13118\n",
              "Healthcare & Nursing Jobs            8070\n",
              "Engineering Jobs                     7524\n",
              "Accounting & Finance Jobs            6781\n",
              "Sales Jobs                           4879\n",
              "Hospitality & Catering Jobs          4400\n",
              "Teaching Jobs                        3469\n",
              "PR, Advertising & Marketing Jobs     2512\n",
              "Name: Category, dtype: int64"
            ]
          },
          "execution_count": 737,
          "metadata": {},
          "output_type": "execute_result"
        }
      ],
      "source": [
        "df_data['Category'].value_counts()"
      ]
    },
    {
      "cell_type": "code",
      "execution_count": 738,
      "metadata": {
        "colab": {
          "base_uri": "https://localhost:8080/",
          "height": 681
        },
        "id": "EkNI7-x7pxCL",
        "outputId": "b7c2ed19-8a31-4458-acb2-af7dc85bd652"
      },
      "outputs": [
        {
          "data": {
            "image/png": "[encoded data removed]",
            "text/plain": [
              "<Figure size 800x800 with 1 Axes>"
            ]
          },
          "metadata": {},
          "output_type": "display_data"
        }
      ],
      "source": [
        "# DataFrame called 'df_data' with the 'Category' column\n",
        "category_counts = df_data['Category'].value_counts()\n",
        "# Create a pie chart\n",
        "plt.figure(figsize=(8, 8))\n",
        "plt.pie(category_counts, labels=category_counts.index, autopct='%1.1f%%', startangle=140)\n",
        "plt.title('Distribution of Job Categories')\n",
        "plt.axis('equal')  # Equal aspect ratio ensures that pie is drawn as a circle.\n",
        "plt.show()\n"
      ]
    },
    {
      "cell_type": "markdown",
      "metadata": {
        "id": "Kelbv5y9pjmO"
      },
      "source": [
        "In the dataset's 'Category' column, we see various job categories. The most common ones are 'IT Jobs' with 13,118 listings, 'Healthcare & Nursing Jobs' with 8,070 listings, and 'Engineering Jobs' with 7,524 listings. These categories cover a wide range of job types, from technology and healthcare to engineering and more. This information helps people searching for jobs or employers looking to post jobs find the right category for their needs."
      ]
    },
    {
      "cell_type": "code",
      "execution_count": 739,
      "metadata": {
        "colab": {
          "base_uri": "https://localhost:8080/"
        },
        "id": "h8FNQb1K0_i2",
        "outputId": "a206c24f-d02f-408f-f7ce-f5adbde6e676"
      },
      "outputs": [
        {
          "data": {
            "text/plain": [
              "35000             1736\n",
              "30000             1679\n",
              "40000             1582\n",
              "32500             1375\n",
              "45000             1325\n",
              "                  ... \n",
              "15571                1\n",
              "14486                1\n",
              "32250 To 37250       1\n",
              "29375                1\n",
              "59040                1\n",
              "Name: Salary, Length: 3372, dtype: int64"
            ]
          },
          "execution_count": 739,
          "metadata": {},
          "output_type": "execute_result"
        }
      ],
      "source": [
        "df_data['Salary'].value_counts()"
      ]
    },
    {
      "cell_type": "markdown",
      "metadata": {
        "id": "w0dHbAOTqcsI"
      },
      "source": [
        "the most common salary value is '35000,' appearing in 1,736 job listings, followed by '30000' in 1,679 listings and '40000' in 1,582 listings. These numerical salary values represent the majority of the dataset.\n",
        "\n",
        "However, it's important to note that there are also entries with salary ranges or unusual formats, such as '32250 To 37250' and specific values like '15571' or '14486.' These variations suggest data quality issues and may require cleaning and standardization to analyze salaries effectively."
      ]
    },
    {
      "cell_type": "code",
      "execution_count": 740,
      "metadata": {
        "colab": {
          "base_uri": "https://localhost:8080/"
        },
        "id": "toD6EmEsTL4M",
        "outputId": "f5cad511-6a08-47a9-fda4-7e5c0b7bc88f"
      },
      "outputs": [
        {
          "data": {
            "text/plain": [
              "20130626T150000    41\n",
              "20130813T150000    40\n",
              "20120519T120000    39\n",
              "20120408T120000    39\n",
              "20120209T150000    39\n",
              "                   ..\n",
              "20120101T150000    11\n",
              "20120525T120000    10\n",
              "20121026T000000    10\n",
              "20120126T120000    10\n",
              "20121511T120000     1\n",
              "Name: OpenDate, Length: 2194, dtype: int64"
            ]
          },
          "execution_count": 740,
          "metadata": {},
          "output_type": "execute_result"
        }
      ],
      "source": [
        "df_data['OpenDate'].value_counts()"
      ]
    },
    {
      "cell_type": "code",
      "execution_count": 741,
      "metadata": {
        "colab": {
          "base_uri": "https://localhost:8080/"
        },
        "id": "Rif0YiCQTQSv",
        "outputId": "9675417a-27ca-4418-f5fb-d4bb5f1d5aa1"
      },
      "outputs": [
        {
          "data": {
            "text/plain": [
              "20120508T000000    39\n",
              "20130502T000000    38\n",
              "20131129T150000    37\n",
              "20130317T150000    37\n",
              "20120908T150000    37\n",
              "                   ..\n",
              "20120120T000000     1\n",
              "20120116T150000     1\n",
              "20120117T150000     1\n",
              "20120128T120000     1\n",
              "20120123T000000     1\n",
              "Name: CloseDate, Length: 2415, dtype: int64"
            ]
          },
          "execution_count": 741,
          "metadata": {},
          "output_type": "execute_result"
        }
      ],
      "source": [
        "df_data['CloseDate'].value_counts()"
      ]
    },
    {
      "cell_type": "code",
      "execution_count": 742,
      "metadata": {
        "colab": {
          "base_uri": "https://localhost:8080/"
        },
        "id": "RcMCHvvOUZ0w",
        "outputId": "127e388b-f9e1-4529-87fd-8573fc03a1df"
      },
      "outputs": [
        {
          "data": {
            "text/plain": [
              "totaljobs.com        9265\n",
              "cv-library.co.uk     7168\n",
              "jobsite.co.uk        3331\n",
              "cwjobs.co.uk         2838\n",
              "staffnurse.com       2527\n",
              "                     ... \n",
              "scotsman.com            4\n",
              "grb.uk.com              4\n",
              "jobs.gponline.com       3\n",
              "cvjobstore.com          1\n",
              "thegraduate.co.uk       1\n",
              "Name: SourceName, Length: 107, dtype: int64"
            ]
          },
          "execution_count": 742,
          "metadata": {},
          "output_type": "execute_result"
        }
      ],
      "source": [
        "df_data['SourceName'].value_counts()"
      ]
    },
    {
      "cell_type": "markdown",
      "metadata": {
        "id": "7eIxtrAtq5SV"
      },
      "source": [
        "the most common ones being 'totaljobs.com' (9,265 listings), 'cv-library.co.uk' (7,168 listings), 'jobsite.co.uk' (3,331 listings), 'cwjobs.co.uk' (2,838 listings), and 'staffnurse.com' (2,527 listings). These sources contribute a significant number of job listings."
      ]
    },
    {
      "cell_type": "code",
      "execution_count": 743,
      "metadata": {
        "colab": {
          "base_uri": "https://localhost:8080/",
          "height": 719
        },
        "id": "cAdBBsRiskH4",
        "outputId": "671041e1-102b-4d30-ee01-42f9746e11ee"
      },
      "outputs": [
        {
          "data": {
            "image/png": "[encoded data removed]",
            "text/plain": [
              "<Figure size 1200x600 with 1 Axes>"
            ]
          },
          "metadata": {},
          "output_type": "display_data"
        }
      ],
      "source": [
        "# DataFrame called 'df_data' with the 'SourceName' column\n",
        "\n",
        "# Get the value counts for 'SourceName'\n",
        "source_counts = df_data['SourceName'].value_counts()\n",
        "\n",
        "# Limit the number of sources for better visualization (adjust as needed)\n",
        "top_sources = source_counts.head(10)  # Select the top 10 sources\n",
        "\n",
        "# Create a bar chart\n",
        "plt.figure(figsize=(12, 6))\n",
        "top_sources.plot(kind='bar', color='skyblue', edgecolor='black')\n",
        "plt.title('Distribution of Job Sources')\n",
        "plt.xlabel('Source Name')\n",
        "plt.ylabel('Number of Listings')\n",
        "plt.xticks(rotation=45, ha='right')\n",
        "plt.show()\n"
      ]
    },
    {
      "cell_type": "code",
      "execution_count": 744,
      "metadata": {
        "id": "zm5UUuLDM8FZ"
      },
      "outputs": [],
      "source": [
        "# 1. Check and cleanse Id\n",
        "df_data['Id'] = pd.to_numeric(df_data['Id'], errors='coerce')\n",
        "df_data['Id'] = df_data['Id'].astype(str).str.zfill(8)\n",
        "df_data['Id'] = df_data['Id'].astype(int)"
      ]
    },
    {
      "cell_type": "code",
      "execution_count": 745,
      "metadata": {
        "id": "07qfaTOwNHdq"
      },
      "outputs": [],
      "source": [
        "# 2. Replace missing or empty Title\n",
        "df_data['Title'].fillna('non-specified', inplace=True)\n",
        "df_data['Title'] = df_data['Title'].astype(str)"
      ]
    },
    {
      "cell_type": "code",
      "execution_count": 746,
      "metadata": {
        "id": "YCwHc2E9NOku"
      },
      "outputs": [],
      "source": [
        "# 3. Replace missing or empty Location\n",
        "df_data['Location'].fillna('non-specified', inplace=True)"
      ]
    },
    {
      "cell_type": "code",
      "execution_count": 747,
      "metadata": {
        "id": "iwqZLPu2Eefi"
      },
      "outputs": [],
      "source": [
        "# Define a function to convert the entire \"Location\" column to lowercase\n",
        "def LowercaseLocation(location):\n",
        "    return location.lower()\n",
        "\n",
        "# apply the function to the \"Location\" column\n",
        "df_data['Location'] = df_data['Location'].apply(LowercaseLocation)\n"
      ]
    },
    {
      "cell_type": "code",
      "execution_count": 748,
      "metadata": {
        "id": "GT1FyNkZbQEV"
      },
      "outputs": [],
      "source": [
        "# Define a function to capitalize the first letter of each word\n",
        "def CapitalizingLocation(location):\n",
        "    words = location.split()\n",
        "    capitalized_words = [word.capitalize() for word in words]\n",
        "    return ' '.join(capitalized_words)\n",
        "\n",
        "# apply the function to the \"Location\" column\n",
        "df_data['Location'] = df_data['Location'].apply(CapitalizingLocation)\n"
      ]
    },
    {
      "cell_type": "code",
      "execution_count": 749,
      "metadata": {
        "colab": {
          "base_uri": "https://localhost:8080/"
        },
        "id": "WIwVyZq_bam4",
        "outputId": "ccf6c1f9-5d41-433f-94e1-faf82c0eed6d"
      },
      "outputs": [
        {
          "data": {
            "text/plain": [
              "['Oxford']"
            ]
          },
          "execution_count": 749,
          "metadata": {},
          "output_type": "execute_result"
        }
      ],
      "source": [
        "difflib.get_close_matches('Oxfords',set(df_data['Location']).difference(['Oxfords']), n = 1,cutoff=0.85)"
      ]
    },
    {
      "cell_type": "code",
      "execution_count": 750,
      "metadata": {
        "colab": {
          "base_uri": "https://localhost:8080/"
        },
        "id": "BSGSJcuZbbjD",
        "outputId": "7a23783f-37f5-499c-b33b-1cc19fbe7036"
      },
      "outputs": [
        {
          "data": {
            "text/plain": [
              "['Hampshire']"
            ]
          },
          "execution_count": 750,
          "metadata": {},
          "output_type": "execute_result"
        }
      ],
      "source": [
        "difflib.get_close_matches('Hampshira',set(df_data['Location']).difference(['Hampshira']), n = 1,cutoff=0.85)"
      ]
    },
    {
      "cell_type": "code",
      "execution_count": 751,
      "metadata": {
        "colab": {
          "base_uri": "https://localhost:8080/"
        },
        "id": "O7Mzt3cgbiFj",
        "outputId": "5f899c4a-9a22-48c3-dc62-07e62e25c3da"
      },
      "outputs": [
        {
          "data": {
            "text/plain": [
              "['Birmingham']"
            ]
          },
          "execution_count": 751,
          "metadata": {},
          "output_type": "execute_result"
        }
      ],
      "source": [
        "difflib.get_close_matches('birmingham',set(df_data['Location']).difference(['birmingham']), n = 1,cutoff=0.85)"
      ]
    },
    {
      "cell_type": "code",
      "execution_count": 752,
      "metadata": {
        "colab": {
          "base_uri": "https://localhost:8080/"
        },
        "id": "4cLhIrPAbhF6",
        "outputId": "729ae269-3c51-4196-b76f-65a865722875"
      },
      "outputs": [
        {
          "data": {
            "text/plain": [
              "['Liverpool']"
            ]
          },
          "execution_count": 752,
          "metadata": {},
          "output_type": "execute_result"
        }
      ],
      "source": [
        "difflib.get_close_matches('Livepool',set(df_data['Location']).difference(['Livepool']), n = 1,cutoff=0.85)"
      ]
    },
    {
      "cell_type": "code",
      "execution_count": 753,
      "metadata": {
        "colab": {
          "base_uri": "https://localhost:8080/"
        },
        "id": "44lTOZFQg5Df",
        "outputId": "dc900f8a-84c1-4c10-847f-e4808eebdab9"
      },
      "outputs": [
        {
          "data": {
            "text/plain": [
              "[]"
            ]
          },
          "execution_count": 753,
          "metadata": {},
          "output_type": "execute_result"
        }
      ],
      "source": [
        "difflib.get_close_matches('Leads',set(df_data['Location']).difference(['Leads']), n = 1,cutoff=0.85)"
      ]
    },
    {
      "cell_type": "code",
      "execution_count": 754,
      "metadata": {
        "colab": {
          "base_uri": "https://localhost:8080/"
        },
        "id": "INyv7ZMMg83v",
        "outputId": "965271e3-56a7-4deb-9f40-f19d4747465f"
      },
      "outputs": [
        {
          "data": {
            "text/plain": [
              "['Croydon']"
            ]
          },
          "execution_count": 754,
          "metadata": {},
          "output_type": "execute_result"
        }
      ],
      "source": [
        "difflib.get_close_matches('Croydan',set(df_data['Location']).difference(['Croydan']), n = 1,cutoff=0.85)"
      ]
    },
    {
      "cell_type": "code",
      "execution_count": 755,
      "metadata": {
        "colab": {
          "base_uri": "https://localhost:8080/"
        },
        "id": "VE6IXjeog873",
        "outputId": "d0cd2f98-620e-4bd4-ab89-5de3d8df6da9"
      },
      "outputs": [
        {
          "data": {
            "text/plain": [
              "['Cambridge']"
            ]
          },
          "execution_count": 755,
          "metadata": {},
          "output_type": "execute_result"
        }
      ],
      "source": [
        "difflib.get_close_matches('Cembridge',set(df_data['Location']).difference(['Cembridge']), n = 1,cutoff=0.85)"
      ]
    },
    {
      "cell_type": "code",
      "execution_count": 756,
      "metadata": {
        "colab": {
          "base_uri": "https://localhost:8080/"
        },
        "id": "ay1L_5_Og8_Z",
        "outputId": "46a78666-c87a-4992-a31c-464c7156cf25"
      },
      "outputs": [
        {
          "data": {
            "text/plain": [
              "['London']"
            ]
          },
          "execution_count": 756,
          "metadata": {},
          "output_type": "execute_result"
        }
      ],
      "source": [
        "difflib.get_close_matches('Londn',set(df_data['Location']).difference(['Londn']), n = 1,cutoff=0.85)"
      ]
    },
    {
      "cell_type": "code",
      "execution_count": 757,
      "metadata": {
        "colab": {
          "base_uri": "https://localhost:8080/"
        },
        "id": "qnU52Z1OhDAW",
        "outputId": "1a5ac032-89e3-447d-f476-4210eba451ff"
      },
      "outputs": [
        {
          "data": {
            "text/plain": [
              "['Manchester']"
            ]
          },
          "execution_count": 757,
          "metadata": {},
          "output_type": "execute_result"
        }
      ],
      "source": [
        "difflib.get_close_matches('Manchaster',set(df_data['Location']).difference(['Manchaster']), n = 1,cutoff=0.85)"
      ]
    },
    {
      "cell_type": "code",
      "execution_count": 758,
      "metadata": {
        "colab": {
          "base_uri": "https://localhost:8080/"
        },
        "id": "9H8pjRxCj1kk",
        "outputId": "faf94fbc-7685-4eeb-b985-b22c7bf79463"
      },
      "outputs": [
        {
          "data": {
            "text/plain": [
              "[]"
            ]
          },
          "execution_count": 758,
          "metadata": {},
          "output_type": "execute_result"
        }
      ],
      "source": [
        "difflib.get_close_matches('Lancashire',set(df_data['Location']).difference(['Lancashire']), n = 1,cutoff=0.85)"
      ]
    },
    {
      "cell_type": "code",
      "execution_count": 759,
      "metadata": {
        "colab": {
          "base_uri": "https://localhost:8080/"
        },
        "id": "Hns3wo_3FYdU",
        "outputId": "d676ccd8-1ced-49c9-938f-7f4bc3c37656"
      },
      "outputs": [
        {
          "data": {
            "text/plain": [
              "['Warrington']"
            ]
          },
          "execution_count": 759,
          "metadata": {},
          "output_type": "execute_result"
        }
      ],
      "source": [
        "difflib.get_close_matches('Warringtn',set(df_data['Location']).difference(['Warringtn']), n = 1,cutoff=0.85)"
      ]
    },
    {
      "cell_type": "markdown",
      "metadata": {
        "id": "wcOX2VFTuTWD"
      },
      "source": [
        "*Spelling Mistake or typo error Identification and fixation*\n",
        "\n",
        "here we can see that and conclude that:\n",
        "\n",
        "- Correcting spelling mistakes in the 'Location' column:\n",
        "- Original errors: 'Hampshira' should be 'Hampshire', 'Livepool' should be 'Liverpool','birmingham' should be 'Birmingham', 'Leads' should be 'Leeds', 'Croydan' should be 'Croydon',Cembridge' should be 'Cambridge', 'Londn' should be 'London', 'Manchaster' should be 'Manchester','Warringtn' should be 'Warrington'.\n",
        "- Updated the 'Location' column to fix these errors.\n"
      ]
    },
    {
      "cell_type": "code",
      "execution_count": 760,
      "metadata": {
        "colab": {
          "base_uri": "https://localhost:8080/"
        },
        "id": "kEMRx9-Fk0qd",
        "outputId": "fade94cf-391c-4b9b-e71d-a207555906db"
      },
      "outputs": [
        {
          "name": "stdout",
          "output_type": "stream",
          "text": [
            "    indexOfdf        Id ColumnName    Original    Modified         ErrorType  \\\n",
            "0        5092  69018192   Location   Cembridge   Cambridge  Spelling mistake   \n",
            "1        9634  68346617   Location       Londn      London  Spelling mistake   \n",
            "2       10090  68180785   Location     Croydan     Croydon  Spelling mistake   \n",
            "3       10340  72248674   Location       Leads       Leeds  Spelling mistake   \n",
            "4       13174  71307153   Location       Leads       Leeds  Spelling mistake   \n",
            "5       18334  68064262   Location   Warringtn  Warrington  Spelling mistake   \n",
            "6       19084  68676682   Location       Londn      London  Spelling mistake   \n",
            "7       22055  72451150   Location    Livepool   Liverpool  Spelling mistake   \n",
            "8       24526  68512708   Location   Hampshira   Hampshire  Spelling mistake   \n",
            "9       25518  67017296   Location     Oxfords      Oxford  Spelling mistake   \n",
            "10      27919  72187367   Location   Cembridge   Cambridge  Spelling mistake   \n",
            "11      30200  67081230   Location  Manchaster  Manchester  Spelling mistake   \n",
            "12      31082  66197436   Location     Croydan     Croydon  Spelling mistake   \n",
            "13      31897  69768748   Location   Warringtn  Warrington  Spelling mistake   \n",
            "14      40318  70086833   Location   Hampshira   Hampshire  Spelling mistake   \n",
            "\n",
            "                                      Fixing  \n",
            "0     Change from 'Cembridge' to 'Cambridge'  \n",
            "1            Change from 'Londn' to 'London'  \n",
            "2         Change from 'Croydan' to 'Croydon'  \n",
            "3             Change from 'Leads' to 'Leeds'  \n",
            "4             Change from 'Leads' to 'Leeds'  \n",
            "5    Change from 'Warringtn' to 'Warrington'  \n",
            "6            Change from 'Londn' to 'London'  \n",
            "7      Change from 'Livepool' to 'Liverpool'  \n",
            "8     Change from 'Hampshira' to 'Hampshire'  \n",
            "9          Change from 'Oxfords' to 'Oxford'  \n",
            "10    Change from 'Cembridge' to 'Cambridge'  \n",
            "11  Change from 'Manchaster' to 'Manchester'  \n",
            "12        Change from 'Croydan' to 'Croydon'  \n",
            "13   Change from 'Warringtn' to 'Warrington'  \n",
            "14    Change from 'Hampshira' to 'Hampshire'  \n"
          ]
        }
      ],
      "source": [
        "\n",
        "# Initialize the error list DataFrame\n",
        "error_list_columns = ['indexOfdf', 'Id', 'ColumnName', 'Original', 'Modified', 'ErrorType', 'Fixing']\n",
        "error_list_df = pd.DataFrame(columns=error_list_columns)\n",
        "\n",
        "\n",
        "def AddingToErrorRec(index_of_df, unique_id, column_name, original_value, modified_value, error_type, fixing_description):\n",
        "        \"\"\"\n",
        "        Add an error record to the error list DataFrame.\n",
        "\n",
        "        Args:\n",
        "            index_of_df (int): Index of the DataFrame row.\n",
        "            unique_id (str or int): Unique identifier for the row.\n",
        "            column_name (str): Name of the column containing the error.\n",
        "            original_value (str): Original value before modification.\n",
        "            modified_value (str): Modified value after correction.\n",
        "            error_type (str): Type of error, e.g., 'Spelling mistake'.\n",
        "            fixing_description (str): Description of the correction made.\n",
        "\n",
        "        Returns:\n",
        "            None\n",
        "        \"\"\"\n",
        "        error = {\n",
        "            'indexOfdf': index_of_df,\n",
        "            'Id': unique_id,\n",
        "            'ColumnName': column_name,\n",
        "            'Original': original_value,\n",
        "            'Modified': modified_value,\n",
        "            'ErrorType': error_type,\n",
        "            'Fixing': fixing_description\n",
        "        }\n",
        "        error_list_df.loc[len(error_list_df)] = error\n",
        "\n",
        "def UpdatingErrorRec(data_frame, correction_dict, error_location_list):\n",
        "    \"\"\"\n",
        "    Update error records for spelling mistakes in a given DataFrame.\n",
        "\n",
        "    Args:\n",
        "        data_frame (pd.DataFrame): The input DataFrame containing data.\n",
        "        correction_dict (dict): A dictionary mapping original values to corrected values.\n",
        "        error_location_list (list): A list of target location names to check for spelling mistakes.\n",
        "\n",
        "    Returns:\n",
        "        pd.DataFrame: Updated error records DataFrame.\n",
        "\n",
        "    Example:\n",
        "        correction_dict = {\n",
        "            'Oxfords': 'Oxford',\n",
        "            'Hampshira': 'Hampshire',\n",
        "            # Add more mappings as needed\n",
        "        }\n",
        "\n",
        "        error_location = ['Oxfords', 'Hampshira', 'Livepool', 'birmingham', 'Leads', 'Croydan', 'Cembridge', 'Londn', 'Manchaster', 'Warringtn']\n",
        "\n",
        "        # Assuming we have a DataFrame named 'df'\n",
        "        updated_error_list = UpdatingErrorRec(df, correction_dict, error_location)\n",
        "\n",
        "        # Display the updated error list\n",
        "        print(updated_error_list)\n",
        "    \"\"\"\n",
        "\n",
        "    # Iterate through rows in the DataFrame and update the error list\n",
        "    for index, row in data_frame[data_frame['Location'].isin(error_location_list)].iterrows():\n",
        "        index_of_df = index\n",
        "        unique_id = row['Id']\n",
        "        column_name = 'Location'\n",
        "        original_value = row['Location']\n",
        "        modified_value = correction_dict.get(original_value, original_value)\n",
        "        error_type = 'Spelling mistake'\n",
        "        fixing_description = f\"Change from '{original_value}' to '{modified_value}'\"\n",
        "        AddingToErrorRec(index_of_df, unique_id, column_name, original_value, modified_value, error_type, fixing_description)\n",
        "\n",
        "    return error_list_df\n",
        "\n",
        "correction_dict = {\n",
        "    'Oxfords': 'Oxford',\n",
        "    'Hampshira': 'Hampshire',\n",
        "    'Livepool': 'Liverpool',\n",
        "    'birmingham': 'Birmingham',\n",
        "    'Leads': 'Leeds',\n",
        "    'Croydan': 'Croydon',\n",
        "    'Cembridge': 'Cambridge',\n",
        "    'Londn': 'London',\n",
        "    'Manchaster': 'Manchester',\n",
        "    'Warringtn': 'Warrington'\n",
        "}\n",
        "error_location = ['Oxfords', 'Hampshira', 'Livepool', 'birmingham', 'Leads', 'Croydan', 'Cembridge', 'Londn', 'Manchaster', 'Warringtn']\n",
        "\n",
        "\n",
        "updated_error_list = UpdatingErrorRec(df_data, correction_dict, error_location)\n",
        "\n",
        "# Display the updated error list\n",
        "print(updated_error_list)\n"
      ]
    },
    {
      "cell_type": "code",
      "execution_count": 761,
      "metadata": {
        "colab": {
          "base_uri": "https://localhost:8080/"
        },
        "id": "XCDnf8XChDEB",
        "outputId": "c501f67e-d5a7-40ce-f0bb-92eeb62b6544"
      },
      "outputs": [
        {
          "data": {
            "text/plain": [
              "Uk                   7719\n",
              "London               6574\n",
              "South East London    2665\n",
              "The City             1145\n",
              "Central London        829\n",
              "                     ... \n",
              "Normanton               9\n",
              "Twickenham              9\n",
              "Lutterworth             9\n",
              "Waterlooville           8\n",
              "North Finchley          7\n",
              "Name: Location, Length: 479, dtype: int64"
            ]
          },
          "execution_count": 761,
          "metadata": {},
          "output_type": "execute_result"
        }
      ],
      "source": [
        "correction_dict = {'Oxfords':'Oxford', 'Hampshira':'Hampshire', 'Livepool':'Liverpool', 'birmingham':'Birmingham','Leads':'Leeds', 'Croydan':'Croydon', 'Cembridge':'Cambridge', 'Londn':'London', 'Manchaster':'Manchester','Warringtn':'Warrington'}\n",
        "df_data['Location'].replace(correction_dict,inplace=True)\n",
        "df_data['Location']= df_data['Location'].astype(str)\n",
        "df_data['Location'].value_counts()"
      ]
    },
    {
      "cell_type": "code",
      "execution_count": 762,
      "metadata": {
        "id": "AWcDRED2Ngyb"
      },
      "outputs": [],
      "source": [
        "# # 4. Replace missing or empty Company\n",
        "# df_data['Company'].fillna('non-specified', inplace=True)\n",
        "# # Replace 'N/A' with 'non-specified'\n",
        "# df_data['Company'] = df_data['Company'].replace('N/A', 'non-specified')\n",
        "# # Replace '' with 'non-specified'\n",
        "# df_data['Company'] = df_data['Company'].replace(' ', 'non-specified')\n",
        "# # Replace '-' with 'non-specified'\n",
        "# df_data['Company'] = df_data['Company'].replace('-', 'non-specified')\n"
      ]
    },
    {
      "cell_type": "code",
      "execution_count": 763,
      "metadata": {
        "colab": {
          "base_uri": "https://localhost:8080/"
        },
        "id": "KrAcse2ZxAB7",
        "outputId": "988d2f8b-0cce-47a0-ded0-5d5d2682191d"
      },
      "outputs": [
        {
          "data": {
            "text/plain": [
              "Id                  0\n",
              "Title               0\n",
              "Location            0\n",
              "Company           609\n",
              "ContractType    23534\n",
              "ContractTime     4192\n",
              "Category            0\n",
              "Salary            365\n",
              "OpenDate            0\n",
              "CloseDate           0\n",
              "SourceName          0\n",
              "dtype: int64"
            ]
          },
          "execution_count": 763,
          "metadata": {},
          "output_type": "execute_result"
        }
      ],
      "source": [
        "df_data.isnull().sum()"
      ]
    },
    {
      "cell_type": "code",
      "execution_count": 764,
      "metadata": {
        "colab": {
          "base_uri": "https://localhost:8080/"
        },
        "id": "1alFyNgAJ7qM",
        "outputId": "c285f5bb-74da-43b2-ec05-4dd7a031b400"
      },
      "outputs": [
        {
          "name": "stdout",
          "output_type": "stream",
          "text": [
            "       indexOfdf        Id ColumnName   Original       Modified  \\\n",
            "0           5092  69018192   Location  Cembridge      Cambridge   \n",
            "1           9634  68346617   Location      Londn         London   \n",
            "2          10090  68180785   Location    Croydan        Croydon   \n",
            "3          10340  72248674   Location      Leads          Leeds   \n",
            "4          13174  71307153   Location      Leads          Leeds   \n",
            "...          ...       ...        ...        ...            ...   \n",
            "58628      50680  71596991     Salary       None  non-specified   \n",
            "58629      50685  70435636     Salary       None  non-specified   \n",
            "58630      50707  72342174     Salary        N/A  non-specified   \n",
            "58631      50727  67931957     Salary          -  non-specified   \n",
            "58632      50742  68390853     Salary        N/A  non-specified   \n",
            "\n",
            "              ErrorType                                  Fixing  \n",
            "0      Spelling mistake  Change from 'Cembridge' to 'Cambridge'  \n",
            "1      Spelling mistake         Change from 'Londn' to 'London'  \n",
            "2      Spelling mistake      Change from 'Croydan' to 'Croydon'  \n",
            "3      Spelling mistake          Change from 'Leads' to 'Leeds'  \n",
            "4      Spelling mistake          Change from 'Leads' to 'Leeds'  \n",
            "...                 ...                                     ...  \n",
            "58628     Missing value   Change from 'None' to 'non-specified'  \n",
            "58629     Missing value   Change from 'None' to 'non-specified'  \n",
            "58630     Missing value    Change from 'N/A' to 'non-specified'  \n",
            "58631     Missing value      Change from '-' to 'non-specified'  \n",
            "58632     Missing value    Change from 'N/A' to 'non-specified'  \n",
            "\n",
            "[58633 rows x 7 columns]\n"
          ]
        }
      ],
      "source": [
        "# List of columns to check and modify\n",
        "columns_to_check = ['Company', 'ContractType', 'ContractTime', 'Salary']\n",
        "def UpdatingErrorRec(data_frame, correction_dict, error_location_list):\n",
        "\n",
        "    # Iterate through specified columns and update the DataFrame\n",
        "    for column in columns_to_check:\n",
        "\n",
        "        # Iterate through rows in the DataFrame and update the error list\n",
        "        for index, row in data_frame[data_frame[column].isin(error_location_list)].iterrows():\n",
        "            index_of_df = index\n",
        "            unique_id = row['Id']\n",
        "            column_name = column\n",
        "            original_value = row[column]\n",
        "            modified_value = correction_dict.get(original_value, original_value)\n",
        "            error_type = 'Missing value'\n",
        "            fixing_description = f\"Change from '{original_value}' to '{modified_value}'\"\n",
        "            AddingToErrorRec(index_of_df, unique_id, column_name, original_value, modified_value, error_type, fixing_description)\n",
        "\n",
        "    return error_list_df\n",
        "\n",
        "\n",
        "#  correction dictionary and error location list\n",
        "correction_dict = {\n",
        "    None: 'non-specified',\n",
        "    ' ': 'non-specified',\n",
        "    'N/A':'non-specified',\n",
        "    '-':'non-specified'\n",
        "}\n",
        "\n",
        "error_location_list = [None,' ','N/A','-']\n",
        "\n",
        "# Assuming you have an original DataFrame named 'df_data'\n",
        "# You can call the function to get the updated error list\n",
        "updated_error_list = UpdatingErrorRec(df_data, correction_dict, error_location_list)\n",
        "\n",
        "# Display the updated error list\n",
        "print(updated_error_list)\n",
        "\n"
      ]
    },
    {
      "cell_type": "markdown",
      "metadata": {
        "id": "GEC2ZRQOwAew"
      },
      "source": [
        "*Identifying Missing value error and Fixing it by defining that value with 'non-specified'.*\n",
        "\n",
        "- Cleaning 'Title' Column: Replaced missing or undefined title information with 'non-specified'.\n",
        "\n",
        "- Cleaning 'Location' Column: Replaced missing or undefined location information with 'non-specified'.\n",
        "\n",
        "- Cleaning 'Company' Column: Replaced missing or undefined company information with 'non-specified'.\n",
        "\n",
        "- Cleaning 'ContractType' Column: Updated 'ContractType' values to either 'full_time', 'part_time', or 'non-specified' as applicable.\n",
        "\n",
        "- Cleaning 'ContractTime' Column: Updated 'ContractTime' values to either 'permanent', 'contract', or 'non-specified' as applicable.\n",
        "\n",
        "- Cleaning 'Salary' Column: Identifying null\\missing value and nsured all values are valid float numbers, not null, and expressed to two decimal places."
      ]
    },
    {
      "cell_type": "code",
      "execution_count": 765,
      "metadata": {
        "colab": {
          "base_uri": "https://localhost:8080/",
          "height": 206
        },
        "id": "VdbrbE-Ca1zB",
        "outputId": "a29d1546-a9cf-411d-9686-d3fba02466c9"
      },
      "outputs": [
        {
          "data": {
            "text/html": [
              "\n",
              "  <div id=\"df-a56eebc1-4b59-4753-9e11-d164921079f9\" class=\"colab-df-container\">\n",
              "    <div>\n",
              "<style scoped>\n",
              "    .dataframe tbody tr th:only-of-type {\n",
              "        vertical-align: middle;\n",
              "    }\n",
              "\n",
              "    .dataframe tbody tr th {\n",
              "        vertical-align: top;\n",
              "    }\n",
              "\n",
              "    .dataframe thead th {\n",
              "        text-align: right;\n",
              "    }\n",
              "</style>\n",
              "<table border=\"1\" class=\"dataframe\">\n",
              "  <thead>\n",
              "    <tr style=\"text-align: right;\">\n",
              "      <th></th>\n",
              "      <th>indexOfdf</th>\n",
              "      <th>Id</th>\n",
              "      <th>ColumnName</th>\n",
              "      <th>Original</th>\n",
              "      <th>Modified</th>\n",
              "      <th>ErrorType</th>\n",
              "      <th>Fixing</th>\n",
              "    </tr>\n",
              "  </thead>\n",
              "  <tbody>\n",
              "    <tr>\n",
              "      <th>0</th>\n",
              "      <td>5092</td>\n",
              "      <td>69018192</td>\n",
              "      <td>Location</td>\n",
              "      <td>Cembridge</td>\n",
              "      <td>Cambridge</td>\n",
              "      <td>Spelling mistake</td>\n",
              "      <td>Change from 'Cembridge' to 'Cambridge'</td>\n",
              "    </tr>\n",
              "    <tr>\n",
              "      <th>1</th>\n",
              "      <td>9634</td>\n",
              "      <td>68346617</td>\n",
              "      <td>Location</td>\n",
              "      <td>Londn</td>\n",
              "      <td>London</td>\n",
              "      <td>Spelling mistake</td>\n",
              "      <td>Change from 'Londn' to 'London'</td>\n",
              "    </tr>\n",
              "    <tr>\n",
              "      <th>2</th>\n",
              "      <td>10090</td>\n",
              "      <td>68180785</td>\n",
              "      <td>Location</td>\n",
              "      <td>Croydan</td>\n",
              "      <td>Croydon</td>\n",
              "      <td>Spelling mistake</td>\n",
              "      <td>Change from 'Croydan' to 'Croydon'</td>\n",
              "    </tr>\n",
              "    <tr>\n",
              "      <th>3</th>\n",
              "      <td>10340</td>\n",
              "      <td>72248674</td>\n",
              "      <td>Location</td>\n",
              "      <td>Leads</td>\n",
              "      <td>Leeds</td>\n",
              "      <td>Spelling mistake</td>\n",
              "      <td>Change from 'Leads' to 'Leeds'</td>\n",
              "    </tr>\n",
              "    <tr>\n",
              "      <th>4</th>\n",
              "      <td>13174</td>\n",
              "      <td>71307153</td>\n",
              "      <td>Location</td>\n",
              "      <td>Leads</td>\n",
              "      <td>Leeds</td>\n",
              "      <td>Spelling mistake</td>\n",
              "      <td>Change from 'Leads' to 'Leeds'</td>\n",
              "    </tr>\n",
              "  </tbody>\n",
              "</table>\n",
              "</div>\n",
              "    <div class=\"colab-df-buttons\">\n",
              "\n",
              "  <div class=\"colab-df-container\">\n",
              "    <button class=\"colab-df-convert\" onclick=\"convertToInteractive('df-a56eebc1-4b59-4753-9e11-d164921079f9')\"\n",
              "            title=\"Convert this dataframe to an interactive table.\"\n",
              "            style=\"display:none;\">\n",
              "\n",
              "  <svg xmlns=\"http://www.w3.org/2000/svg\" height=\"24px\" viewBox=\"0 -960 960 960\">\n",
              "    <path d=\"M120-120v-720h720v720H120Zm60-500h600v-160H180v160Zm220 220h160v-160H400v160Zm0 220h160v-160H400v160ZM180-400h160v-160H180v160Zm440 0h160v-160H620v160ZM180-180h160v-160H180v160Zm440 0h160v-160H620v160Z\"/>\n",
              "  </svg>\n",
              "    </button>\n",
              "\n",
              "  <style>\n",
              "    .colab-df-container {\n",
              "      display:flex;\n",
              "      gap: 12px;\n",
              "    }\n",
              "\n",
              "    .colab-df-convert {\n",
              "      background-color: #E8F0FE;\n",
              "      border: none;\n",
              "      border-radius: 50%;\n",
              "      cursor: pointer;\n",
              "      display: none;\n",
              "      fill: #1967D2;\n",
              "      height: 32px;\n",
              "      padding: 0 0 0 0;\n",
              "      width: 32px;\n",
              "    }\n",
              "\n",
              "    .colab-df-convert:hover {\n",
              "      background-color: #E2EBFA;\n",
              "      box-shadow: 0px 1px 2px rgba(60, 64, 67, 0.3), 0px 1px 3px 1px rgba(60, 64, 67, 0.15);\n",
              "      fill: #174EA6;\n",
              "    }\n",
              "\n",
              "    .colab-df-buttons div {\n",
              "      margin-bottom: 4px;\n",
              "    }\n",
              "\n",
              "    [theme=dark] .colab-df-convert {\n",
              "      background-color: #3B4455;\n",
              "      fill: #D2E3FC;\n",
              "    }\n",
              "\n",
              "    [theme=dark] .colab-df-convert:hover {\n",
              "      background-color: #434B5C;\n",
              "      box-shadow: 0px 1px 3px 1px rgba(0, 0, 0, 0.15);\n",
              "      filter: drop-shadow(0px 1px 2px rgba(0, 0, 0, 0.3));\n",
              "      fill: #FFFFFF;\n",
              "    }\n",
              "  </style>\n",
              "\n",
              "    <script>\n",
              "      const buttonEl =\n",
              "        document.querySelector('#df-a56eebc1-4b59-4753-9e11-d164921079f9 button.colab-df-convert');\n",
              "      buttonEl.style.display =\n",
              "        google.colab.kernel.accessAllowed ? 'block' : 'none';\n",
              "\n",
              "      async function convertToInteractive(key) {\n",
              "        const element = document.querySelector('#df-a56eebc1-4b59-4753-9e11-d164921079f9');\n",
              "        const dataTable =\n",
              "          await google.colab.kernel.invokeFunction('convertToInteractive',\n",
              "                                                    [key], {});\n",
              "        if (!dataTable) return;\n",
              "\n",
              "        const docLinkHtml = 'Like what you see? Visit the ' +\n",
              "          '<a target=\"_blank\" href=https://colab.research.google.com/notebooks/data_table.ipynb>data table notebook</a>'\n",
              "          + ' to learn more about interactive tables.';\n",
              "        element.innerHTML = '';\n",
              "        dataTable['output_type'] = 'display_data';\n",
              "        await google.colab.output.renderOutput(dataTable, element);\n",
              "        const docLink = document.createElement('div');\n",
              "        docLink.innerHTML = docLinkHtml;\n",
              "        element.appendChild(docLink);\n",
              "      }\n",
              "    </script>\n",
              "  </div>\n",
              "\n",
              "\n",
              "<div id=\"df-04d8ea0c-05fa-48eb-83cd-e8c5c4baa6f9\">\n",
              "  <button class=\"colab-df-quickchart\" onclick=\"quickchart('df-04d8ea0c-05fa-48eb-83cd-e8c5c4baa6f9')\"\n",
              "            title=\"Suggest charts.\"\n",
              "            style=\"display:none;\">\n",
              "\n",
              "<svg xmlns=\"http://www.w3.org/2000/svg\" height=\"24px\"viewBox=\"0 0 24 24\"\n",
              "     width=\"24px\">\n",
              "    <g>\n",
              "        <path d=\"M19 3H5c-1.1 0-2 .9-2 2v14c0 1.1.9 2 2 2h14c1.1 0 2-.9 2-2V5c0-1.1-.9-2-2-2zM9 17H7v-7h2v7zm4 0h-2V7h2v10zm4 0h-2v-4h2v4z\"/>\n",
              "    </g>\n",
              "</svg>\n",
              "  </button>\n",
              "\n",
              "<style>\n",
              "  .colab-df-quickchart {\n",
              "      --bg-color: #E8F0FE;\n",
              "      --fill-color: #1967D2;\n",
              "      --hover-bg-color: #E2EBFA;\n",
              "      --hover-fill-color: #174EA6;\n",
              "      --disabled-fill-color: #AAA;\n",
              "      --disabled-bg-color: #DDD;\n",
              "  }\n",
              "\n",
              "  [theme=dark] .colab-df-quickchart {\n",
              "      --bg-color: #3B4455;\n",
              "      --fill-color: #D2E3FC;\n",
              "      --hover-bg-color: #434B5C;\n",
              "      --hover-fill-color: #FFFFFF;\n",
              "      --disabled-bg-color: #3B4455;\n",
              "      --disabled-fill-color: #666;\n",
              "  }\n",
              "\n",
              "  .colab-df-quickchart {\n",
              "    background-color: var(--bg-color);\n",
              "    border: none;\n",
              "    border-radius: 50%;\n",
              "    cursor: pointer;\n",
              "    display: none;\n",
              "    fill: var(--fill-color);\n",
              "    height: 32px;\n",
              "    padding: 0;\n",
              "    width: 32px;\n",
              "  }\n",
              "\n",
              "  .colab-df-quickchart:hover {\n",
              "    background-color: var(--hover-bg-color);\n",
              "    box-shadow: 0 1px 2px rgba(60, 64, 67, 0.3), 0 1px 3px 1px rgba(60, 64, 67, 0.15);\n",
              "    fill: var(--button-hover-fill-color);\n",
              "  }\n",
              "\n",
              "  .colab-df-quickchart-complete:disabled,\n",
              "  .colab-df-quickchart-complete:disabled:hover {\n",
              "    background-color: var(--disabled-bg-color);\n",
              "    fill: var(--disabled-fill-color);\n",
              "    box-shadow: none;\n",
              "  }\n",
              "\n",
              "  .colab-df-spinner {\n",
              "    border: 2px solid var(--fill-color);\n",
              "    border-color: transparent;\n",
              "    border-bottom-color: var(--fill-color);\n",
              "    animation:\n",
              "      spin 1s steps(1) infinite;\n",
              "  }\n",
              "\n",
              "  @keyframes spin {\n",
              "    0% {\n",
              "      border-color: transparent;\n",
              "      border-bottom-color: var(--fill-color);\n",
              "      border-left-color: var(--fill-color);\n",
              "    }\n",
              "    20% {\n",
              "      border-color: transparent;\n",
              "      border-left-color: var(--fill-color);\n",
              "      border-top-color: var(--fill-color);\n",
              "    }\n",
              "    30% {\n",
              "      border-color: transparent;\n",
              "      border-left-color: var(--fill-color);\n",
              "      border-top-color: var(--fill-color);\n",
              "      border-right-color: var(--fill-color);\n",
              "    }\n",
              "    40% {\n",
              "      border-color: transparent;\n",
              "      border-right-color: var(--fill-color);\n",
              "      border-top-color: var(--fill-color);\n",
              "    }\n",
              "    60% {\n",
              "      border-color: transparent;\n",
              "      border-right-color: var(--fill-color);\n",
              "    }\n",
              "    80% {\n",
              "      border-color: transparent;\n",
              "      border-right-color: var(--fill-color);\n",
              "      border-bottom-color: var(--fill-color);\n",
              "    }\n",
              "    90% {\n",
              "      border-color: transparent;\n",
              "      border-bottom-color: var(--fill-color);\n",
              "    }\n",
              "  }\n",
              "</style>\n",
              "\n",
              "  <script>\n",
              "    async function quickchart(key) {\n",
              "      const quickchartButtonEl =\n",
              "        document.querySelector('#' + key + ' button');\n",
              "      quickchartButtonEl.disabled = true;  // To prevent multiple clicks.\n",
              "      quickchartButtonEl.classList.add('colab-df-spinner');\n",
              "      try {\n",
              "        const charts = await google.colab.kernel.invokeFunction(\n",
              "            'suggestCharts', [key], {});\n",
              "      } catch (error) {\n",
              "        console.error('Error during call to suggestCharts:', error);\n",
              "      }\n",
              "      quickchartButtonEl.classList.remove('colab-df-spinner');\n",
              "      quickchartButtonEl.classList.add('colab-df-quickchart-complete');\n",
              "    }\n",
              "    (() => {\n",
              "      let quickchartButtonEl =\n",
              "        document.querySelector('#df-04d8ea0c-05fa-48eb-83cd-e8c5c4baa6f9 button');\n",
              "      quickchartButtonEl.style.display =\n",
              "        google.colab.kernel.accessAllowed ? 'block' : 'none';\n",
              "    })();\n",
              "  </script>\n",
              "</div>\n",
              "    </div>\n",
              "  </div>\n"
            ],
            "text/plain": [
              "   indexOfdf        Id ColumnName   Original   Modified         ErrorType  \\\n",
              "0       5092  69018192   Location  Cembridge  Cambridge  Spelling mistake   \n",
              "1       9634  68346617   Location      Londn     London  Spelling mistake   \n",
              "2      10090  68180785   Location    Croydan    Croydon  Spelling mistake   \n",
              "3      10340  72248674   Location      Leads      Leeds  Spelling mistake   \n",
              "4      13174  71307153   Location      Leads      Leeds  Spelling mistake   \n",
              "\n",
              "                                   Fixing  \n",
              "0  Change from 'Cembridge' to 'Cambridge'  \n",
              "1         Change from 'Londn' to 'London'  \n",
              "2      Change from 'Croydan' to 'Croydon'  \n",
              "3          Change from 'Leads' to 'Leeds'  \n",
              "4          Change from 'Leads' to 'Leeds'  "
            ]
          },
          "execution_count": 765,
          "metadata": {},
          "output_type": "execute_result"
        }
      ],
      "source": [
        "updated_error_list.head()\n",
        "# updated_error_list.Id.unique().tolist()"
      ]
    },
    {
      "cell_type": "code",
      "execution_count": 766,
      "metadata": {
        "colab": {
          "base_uri": "https://localhost:8080/"
        },
        "id": "N1T_XcJIuLUv",
        "outputId": "1efda12b-2758-439f-ce1f-5246d12948cd"
      },
      "outputs": [
        {
          "data": {
            "text/plain": [
              "4935"
            ]
          },
          "execution_count": 766,
          "metadata": {},
          "output_type": "execute_result"
        }
      ],
      "source": [
        "condition = df_data['Company'] == '-'\n",
        "df_data.loc[condition,'Company'] = None\n",
        "condition = df_data['Company'] == ' '\n",
        "df_data.loc[condition,'Company'] = None\n",
        "condition = df_data['Company'] == 'N/A'\n",
        "df_data.loc[condition,'Company'] = None\n",
        "df_data['Company'].isnull().sum()"
      ]
    },
    {
      "cell_type": "code",
      "execution_count": 767,
      "metadata": {
        "colab": {
          "base_uri": "https://localhost:8080/"
        },
        "id": "xOFvkVoQvanM",
        "outputId": "d1a5bc53-7d38-43b0-8160-ec7beaebdffb"
      },
      "outputs": [
        {
          "data": {
            "text/plain": [
              "38082"
            ]
          },
          "execution_count": 767,
          "metadata": {},
          "output_type": "execute_result"
        }
      ],
      "source": [
        "condition = df_data['ContractType'] == '-'\n",
        "df_data.loc[condition,'ContractType'] = None\n",
        "condition = df_data['ContractType'] == ' '\n",
        "df_data.loc[condition,'ContractType'] = None\n",
        "condition = df_data['ContractType'] == 'N/A'\n",
        "df_data.loc[condition,'ContractType'] = None\n",
        "df_data['ContractType'].isnull().sum()"
      ]
    },
    {
      "cell_type": "code",
      "execution_count": 768,
      "metadata": {
        "colab": {
          "base_uri": "https://localhost:8080/"
        },
        "id": "EOMgVvugvkeb",
        "outputId": "a5ce02f1-c5ac-4514-f6ee-bc22029df22f"
      },
      "outputs": [
        {
          "data": {
            "text/plain": [
              "14100"
            ]
          },
          "execution_count": 768,
          "metadata": {},
          "output_type": "execute_result"
        }
      ],
      "source": [
        "condition = df_data['ContractTime'] == '-'\n",
        "df_data.loc[condition,'ContractTime'] = None\n",
        "condition = df_data['ContractTime'] == ' '\n",
        "df_data.loc[condition,'ContractTime'] = None\n",
        "condition = df_data['ContractTime'] == 'N/A'\n",
        "df_data.loc[condition,'ContractTime'] = None\n",
        "df_data['ContractTime'].isnull().sum()"
      ]
    },
    {
      "cell_type": "code",
      "execution_count": 769,
      "metadata": {
        "colab": {
          "base_uri": "https://localhost:8080/"
        },
        "id": "QscGfcn4vtpq",
        "outputId": "a6c4128a-0840-44b5-8f83-c819f910215f"
      },
      "outputs": [
        {
          "data": {
            "text/plain": [
              "1501"
            ]
          },
          "execution_count": 769,
          "metadata": {},
          "output_type": "execute_result"
        }
      ],
      "source": [
        "condition = df_data['Salary'] == '-'\n",
        "df_data.loc[condition,'Salary'] = None\n",
        "condition = df_data['Salary'] == ' '\n",
        "df_data.loc[condition,'Salary'] = None\n",
        "condition = df_data['Salary'] == 'N/A'\n",
        "df_data.loc[condition,'Salary'] = None\n",
        "df_data['Salary'].isnull().sum()"
      ]
    },
    {
      "cell_type": "code",
      "execution_count": 770,
      "metadata": {
        "id": "awDQjN-TnV2w"
      },
      "outputs": [],
      "source": [
        "df_data['Company'].fillna('non-specified', inplace=True)\n",
        "df_data['ContractType'].fillna('non-specified', inplace=True)\n",
        "df_data['ContractTime'].fillna('non-specified', inplace=True)\n",
        "\n",
        "df_data['Company']= df_data['Company'].astype(str)\n",
        "df_data['ContractType']= df_data['ContractType'].astype(str)\n",
        "df_data['ContractTime']= df_data['ContractTime'].astype(str)\n",
        "\n",
        "df_data['Salary'].fillna('non-specified', inplace=True)"
      ]
    },
    {
      "cell_type": "code",
      "execution_count": 771,
      "metadata": {
        "colab": {
          "base_uri": "https://localhost:8080/"
        },
        "id": "i3v6tT5vc6uw",
        "outputId": "8a37ab4d-00c1-4d59-993f-47cf7380f36c"
      },
      "outputs": [
        {
          "data": {
            "text/plain": [
              "permanent        31025\n",
              "non-specified    14100\n",
              "contract          5628\n",
              "Name: ContractTime, dtype: int64"
            ]
          },
          "execution_count": 771,
          "metadata": {},
          "output_type": "execute_result"
        }
      ],
      "source": [
        "df_data['ContractTime'].value_counts()"
      ]
    },
    {
      "cell_type": "code",
      "execution_count": 772,
      "metadata": {
        "id": "wOxUrtDv3K60"
      },
      "outputs": [],
      "source": [
        "# Mapping dictionary to replace values in 'Category' column\n",
        "category_mapping = {\n",
        "    'IT Jobs': 'IT Jobs',\n",
        "    'Sales Jobs': 'Sales Jobs',\n",
        "    'Engineering Jobs': 'Engineering Jobs',\n",
        "    'Accounting & Finance Jobs': 'Accounting & Finance Jobs',\n",
        "    'Hospitality & Catering Jobs': 'Hospitality & Catering Jobs',\n",
        "    'Teaching Jobs': 'Teaching Jobs',\n",
        "    'PR, Advertising & Marketing Jobs': 'PR, Advertising & Marketing Jobs'\n",
        "}\n",
        "\n",
        "# Replace values in 'Category' column using the mapping dictionary\n",
        "df_data['Category'] = df_data['Category'].map(category_mapping).fillna(df['Category'])\n",
        "\n",
        "df_data['Category']= df_data['Category'].astype(str)"
      ]
    },
    {
      "cell_type": "code",
      "execution_count": 773,
      "metadata": {
        "id": "3alncS5850p4"
      },
      "outputs": [],
      "source": [
        "# Drop rows where the 'Salary' column contains 'non-specified'\n",
        "df_data = df_data[df_data['Salary'] != 'non-specified']\n",
        "df_data = df_data[df_data['Salary'] != 0]"
      ]
    },
    {
      "cell_type": "code",
      "execution_count": 774,
      "metadata": {
        "id": "l_72nKsZo4Hm"
      },
      "outputs": [],
      "source": [
        "def clean_salary_column(df):\n",
        "    # Extract numeric values from 'Salary' column\n",
        "    df['Salary'] = df['Salary'].apply(lambda x: re.findall(r'\\d+\\.\\d+|\\d+', str(x)))\n",
        "\n",
        "    # Convert the extracted numeric values to float\n",
        "    df['Salary'] = df['Salary'].apply(lambda x: float(x[0]) if len(x) > 0 else 0.00)\n",
        "\n",
        "    # Format the 'Salary' column to two decimal places\n",
        "    df['Salary'] = df['Salary'].apply(lambda x: '{:.2f}'.format(x))\n",
        "    df['Salary'] = pd.to_numeric(df['Salary'], errors='coerce')\n",
        "\n",
        "    return df\n",
        "\n"
      ]
    },
    {
      "cell_type": "code",
      "execution_count": 775,
      "metadata": {
        "id": "SXtr1a9cpdNo"
      },
      "outputs": [],
      "source": [
        "df_data = clean_salary_column(df_data)\n",
        "df_data['Salary'] = df_data['Salary'].astype(float)"
      ]
    },
    {
      "cell_type": "code",
      "execution_count": 776,
      "metadata": {
        "colab": {
          "base_uri": "https://localhost:8080/",
          "height": 400
        },
        "id": "um0Wf7RHtMtN",
        "outputId": "bc0cc83b-851a-445e-c278-77a43870d6b9"
      },
      "outputs": [
        {
          "data": {
            "text/html": [
              "\n",
              "  <div id=\"df-e017dc73-6584-4f7a-b527-bdbe1bcbd40a\" class=\"colab-df-container\">\n",
              "    <div>\n",
              "<style scoped>\n",
              "    .dataframe tbody tr th:only-of-type {\n",
              "        vertical-align: middle;\n",
              "    }\n",
              "\n",
              "    .dataframe tbody tr th {\n",
              "        vertical-align: top;\n",
              "    }\n",
              "\n",
              "    .dataframe thead th {\n",
              "        text-align: right;\n",
              "    }\n",
              "</style>\n",
              "<table border=\"1\" class=\"dataframe\">\n",
              "  <thead>\n",
              "    <tr style=\"text-align: right;\">\n",
              "      <th></th>\n",
              "      <th>Id</th>\n",
              "      <th>Title</th>\n",
              "      <th>Location</th>\n",
              "      <th>Company</th>\n",
              "      <th>ContractType</th>\n",
              "      <th>ContractTime</th>\n",
              "      <th>Category</th>\n",
              "      <th>Salary</th>\n",
              "      <th>OpenDate</th>\n",
              "      <th>CloseDate</th>\n",
              "      <th>SourceName</th>\n",
              "    </tr>\n",
              "  </thead>\n",
              "  <tbody>\n",
              "    <tr>\n",
              "      <th>0</th>\n",
              "      <td>69537180</td>\n",
              "      <td>Head of Business Assurance</td>\n",
              "      <td>Uk</td>\n",
              "      <td>Interaction Finance</td>\n",
              "      <td>non-specified</td>\n",
              "      <td>permanent</td>\n",
              "      <td>Accounting &amp; Finance Jobs</td>\n",
              "      <td>47500.0</td>\n",
              "      <td>20130131T120000</td>\n",
              "      <td>20130302T120000</td>\n",
              "      <td>cv-library.co.uk</td>\n",
              "    </tr>\n",
              "    <tr>\n",
              "      <th>1</th>\n",
              "      <td>68216910</td>\n",
              "      <td>Machine Tool Wiremen / Panel Wiremen</td>\n",
              "      <td>Bradford</td>\n",
              "      <td>Network Employment Consultancy</td>\n",
              "      <td>non-specified</td>\n",
              "      <td>permanent</td>\n",
              "      <td>Engineering Jobs</td>\n",
              "      <td>23040.0</td>\n",
              "      <td>20130314T150000</td>\n",
              "      <td>20130612T150000</td>\n",
              "      <td>cv-library.co.uk</td>\n",
              "    </tr>\n",
              "    <tr>\n",
              "      <th>2</th>\n",
              "      <td>70166734</td>\n",
              "      <td>sales (no cold calling)</td>\n",
              "      <td>Stoke-on-trent</td>\n",
              "      <td>Oakland House Recruitment</td>\n",
              "      <td>non-specified</td>\n",
              "      <td>permanent</td>\n",
              "      <td>Sales Jobs</td>\n",
              "      <td>15500.0</td>\n",
              "      <td>20120527T000000</td>\n",
              "      <td>20120626T000000</td>\n",
              "      <td>cv-library.co.uk</td>\n",
              "    </tr>\n",
              "    <tr>\n",
              "      <th>3</th>\n",
              "      <td>70763600</td>\n",
              "      <td>Nurse Medical Advisor  PART TIME</td>\n",
              "      <td>Guildford</td>\n",
              "      <td>Reed Health</td>\n",
              "      <td>part_time</td>\n",
              "      <td>non-specified</td>\n",
              "      <td>Healthcare &amp; Nursing Jobs</td>\n",
              "      <td>31000.0</td>\n",
              "      <td>20130829T120000</td>\n",
              "      <td>20130912T120000</td>\n",
              "      <td>cv-library.co.uk</td>\n",
              "    </tr>\n",
              "    <tr>\n",
              "      <th>4</th>\n",
              "      <td>69559871</td>\n",
              "      <td>Sales/Customer Service Engineer</td>\n",
              "      <td>Uk</td>\n",
              "      <td>Grad Central</td>\n",
              "      <td>non-specified</td>\n",
              "      <td>permanent</td>\n",
              "      <td>Engineering Jobs</td>\n",
              "      <td>19500.0</td>\n",
              "      <td>20120513T120000</td>\n",
              "      <td>20120811T120000</td>\n",
              "      <td>cv-library.co.uk</td>\n",
              "    </tr>\n",
              "  </tbody>\n",
              "</table>\n",
              "</div>\n",
              "    <div class=\"colab-df-buttons\">\n",
              "\n",
              "  <div class=\"colab-df-container\">\n",
              "    <button class=\"colab-df-convert\" onclick=\"convertToInteractive('df-e017dc73-6584-4f7a-b527-bdbe1bcbd40a')\"\n",
              "            title=\"Convert this dataframe to an interactive table.\"\n",
              "            style=\"display:none;\">\n",
              "\n",
              "  <svg xmlns=\"http://www.w3.org/2000/svg\" height=\"24px\" viewBox=\"0 -960 960 960\">\n",
              "    <path d=\"M120-120v-720h720v720H120Zm60-500h600v-160H180v160Zm220 220h160v-160H400v160Zm0 220h160v-160H400v160ZM180-400h160v-160H180v160Zm440 0h160v-160H620v160ZM180-180h160v-160H180v160Zm440 0h160v-160H620v160Z\"/>\n",
              "  </svg>\n",
              "    </button>\n",
              "\n",
              "  <style>\n",
              "    .colab-df-container {\n",
              "      display:flex;\n",
              "      gap: 12px;\n",
              "    }\n",
              "\n",
              "    .colab-df-convert {\n",
              "      background-color: #E8F0FE;\n",
              "      border: none;\n",
              "      border-radius: 50%;\n",
              "      cursor: pointer;\n",
              "      display: none;\n",
              "      fill: #1967D2;\n",
              "      height: 32px;\n",
              "      padding: 0 0 0 0;\n",
              "      width: 32px;\n",
              "    }\n",
              "\n",
              "    .colab-df-convert:hover {\n",
              "      background-color: #E2EBFA;\n",
              "      box-shadow: 0px 1px 2px rgba(60, 64, 67, 0.3), 0px 1px 3px 1px rgba(60, 64, 67, 0.15);\n",
              "      fill: #174EA6;\n",
              "    }\n",
              "\n",
              "    .colab-df-buttons div {\n",
              "      margin-bottom: 4px;\n",
              "    }\n",
              "\n",
              "    [theme=dark] .colab-df-convert {\n",
              "      background-color: #3B4455;\n",
              "      fill: #D2E3FC;\n",
              "    }\n",
              "\n",
              "    [theme=dark] .colab-df-convert:hover {\n",
              "      background-color: #434B5C;\n",
              "      box-shadow: 0px 1px 3px 1px rgba(0, 0, 0, 0.15);\n",
              "      filter: drop-shadow(0px 1px 2px rgba(0, 0, 0, 0.3));\n",
              "      fill: #FFFFFF;\n",
              "    }\n",
              "  </style>\n",
              "\n",
              "    <script>\n",
              "      const buttonEl =\n",
              "        document.querySelector('#df-e017dc73-6584-4f7a-b527-bdbe1bcbd40a button.colab-df-convert');\n",
              "      buttonEl.style.display =\n",
              "        google.colab.kernel.accessAllowed ? 'block' : 'none';\n",
              "\n",
              "      async function convertToInteractive(key) {\n",
              "        const element = document.querySelector('#df-e017dc73-6584-4f7a-b527-bdbe1bcbd40a');\n",
              "        const dataTable =\n",
              "          await google.colab.kernel.invokeFunction('convertToInteractive',\n",
              "                                                    [key], {});\n",
              "        if (!dataTable) return;\n",
              "\n",
              "        const docLinkHtml = 'Like what you see? Visit the ' +\n",
              "          '<a target=\"_blank\" href=https://colab.research.google.com/notebooks/data_table.ipynb>data table notebook</a>'\n",
              "          + ' to learn more about interactive tables.';\n",
              "        element.innerHTML = '';\n",
              "        dataTable['output_type'] = 'display_data';\n",
              "        await google.colab.output.renderOutput(dataTable, element);\n",
              "        const docLink = document.createElement('div');\n",
              "        docLink.innerHTML = docLinkHtml;\n",
              "        element.appendChild(docLink);\n",
              "      }\n",
              "    </script>\n",
              "  </div>\n",
              "\n",
              "\n",
              "<div id=\"df-ffcd5a91-7d5f-4680-b088-d78a97a1ea7d\">\n",
              "  <button class=\"colab-df-quickchart\" onclick=\"quickchart('df-ffcd5a91-7d5f-4680-b088-d78a97a1ea7d')\"\n",
              "            title=\"Suggest charts.\"\n",
              "            style=\"display:none;\">\n",
              "\n",
              "<svg xmlns=\"http://www.w3.org/2000/svg\" height=\"24px\"viewBox=\"0 0 24 24\"\n",
              "     width=\"24px\">\n",
              "    <g>\n",
              "        <path d=\"M19 3H5c-1.1 0-2 .9-2 2v14c0 1.1.9 2 2 2h14c1.1 0 2-.9 2-2V5c0-1.1-.9-2-2-2zM9 17H7v-7h2v7zm4 0h-2V7h2v10zm4 0h-2v-4h2v4z\"/>\n",
              "    </g>\n",
              "</svg>\n",
              "  </button>\n",
              "\n",
              "<style>\n",
              "  .colab-df-quickchart {\n",
              "      --bg-color: #E8F0FE;\n",
              "      --fill-color: #1967D2;\n",
              "      --hover-bg-color: #E2EBFA;\n",
              "      --hover-fill-color: #174EA6;\n",
              "      --disabled-fill-color: #AAA;\n",
              "      --disabled-bg-color: #DDD;\n",
              "  }\n",
              "\n",
              "  [theme=dark] .colab-df-quickchart {\n",
              "      --bg-color: #3B4455;\n",
              "      --fill-color: #D2E3FC;\n",
              "      --hover-bg-color: #434B5C;\n",
              "      --hover-fill-color: #FFFFFF;\n",
              "      --disabled-bg-color: #3B4455;\n",
              "      --disabled-fill-color: #666;\n",
              "  }\n",
              "\n",
              "  .colab-df-quickchart {\n",
              "    background-color: var(--bg-color);\n",
              "    border: none;\n",
              "    border-radius: 50%;\n",
              "    cursor: pointer;\n",
              "    display: none;\n",
              "    fill: var(--fill-color);\n",
              "    height: 32px;\n",
              "    padding: 0;\n",
              "    width: 32px;\n",
              "  }\n",
              "\n",
              "  .colab-df-quickchart:hover {\n",
              "    background-color: var(--hover-bg-color);\n",
              "    box-shadow: 0 1px 2px rgba(60, 64, 67, 0.3), 0 1px 3px 1px rgba(60, 64, 67, 0.15);\n",
              "    fill: var(--button-hover-fill-color);\n",
              "  }\n",
              "\n",
              "  .colab-df-quickchart-complete:disabled,\n",
              "  .colab-df-quickchart-complete:disabled:hover {\n",
              "    background-color: var(--disabled-bg-color);\n",
              "    fill: var(--disabled-fill-color);\n",
              "    box-shadow: none;\n",
              "  }\n",
              "\n",
              "  .colab-df-spinner {\n",
              "    border: 2px solid var(--fill-color);\n",
              "    border-color: transparent;\n",
              "    border-bottom-color: var(--fill-color);\n",
              "    animation:\n",
              "      spin 1s steps(1) infinite;\n",
              "  }\n",
              "\n",
              "  @keyframes spin {\n",
              "    0% {\n",
              "      border-color: transparent;\n",
              "      border-bottom-color: var(--fill-color);\n",
              "      border-left-color: var(--fill-color);\n",
              "    }\n",
              "    20% {\n",
              "      border-color: transparent;\n",
              "      border-left-color: var(--fill-color);\n",
              "      border-top-color: var(--fill-color);\n",
              "    }\n",
              "    30% {\n",
              "      border-color: transparent;\n",
              "      border-left-color: var(--fill-color);\n",
              "      border-top-color: var(--fill-color);\n",
              "      border-right-color: var(--fill-color);\n",
              "    }\n",
              "    40% {\n",
              "      border-color: transparent;\n",
              "      border-right-color: var(--fill-color);\n",
              "      border-top-color: var(--fill-color);\n",
              "    }\n",
              "    60% {\n",
              "      border-color: transparent;\n",
              "      border-right-color: var(--fill-color);\n",
              "    }\n",
              "    80% {\n",
              "      border-color: transparent;\n",
              "      border-right-color: var(--fill-color);\n",
              "      border-bottom-color: var(--fill-color);\n",
              "    }\n",
              "    90% {\n",
              "      border-color: transparent;\n",
              "      border-bottom-color: var(--fill-color);\n",
              "    }\n",
              "  }\n",
              "</style>\n",
              "\n",
              "  <script>\n",
              "    async function quickchart(key) {\n",
              "      const quickchartButtonEl =\n",
              "        document.querySelector('#' + key + ' button');\n",
              "      quickchartButtonEl.disabled = true;  // To prevent multiple clicks.\n",
              "      quickchartButtonEl.classList.add('colab-df-spinner');\n",
              "      try {\n",
              "        const charts = await google.colab.kernel.invokeFunction(\n",
              "            'suggestCharts', [key], {});\n",
              "      } catch (error) {\n",
              "        console.error('Error during call to suggestCharts:', error);\n",
              "      }\n",
              "      quickchartButtonEl.classList.remove('colab-df-spinner');\n",
              "      quickchartButtonEl.classList.add('colab-df-quickchart-complete');\n",
              "    }\n",
              "    (() => {\n",
              "      let quickchartButtonEl =\n",
              "        document.querySelector('#df-ffcd5a91-7d5f-4680-b088-d78a97a1ea7d button');\n",
              "      quickchartButtonEl.style.display =\n",
              "        google.colab.kernel.accessAllowed ? 'block' : 'none';\n",
              "    })();\n",
              "  </script>\n",
              "</div>\n",
              "    </div>\n",
              "  </div>\n"
            ],
            "text/plain": [
              "         Id                                 Title        Location  \\\n",
              "0  69537180            Head of Business Assurance              Uk   \n",
              "1  68216910  Machine Tool Wiremen / Panel Wiremen        Bradford   \n",
              "2  70166734               sales (no cold calling)  Stoke-on-trent   \n",
              "3  70763600      Nurse Medical Advisor  PART TIME       Guildford   \n",
              "4  69559871       Sales/Customer Service Engineer              Uk   \n",
              "\n",
              "                          Company   ContractType   ContractTime  \\\n",
              "0             Interaction Finance  non-specified      permanent   \n",
              "1  Network Employment Consultancy  non-specified      permanent   \n",
              "2       Oakland House Recruitment  non-specified      permanent   \n",
              "3                     Reed Health      part_time  non-specified   \n",
              "4                    Grad Central  non-specified      permanent   \n",
              "\n",
              "                    Category   Salary         OpenDate        CloseDate  \\\n",
              "0  Accounting & Finance Jobs  47500.0  20130131T120000  20130302T120000   \n",
              "1           Engineering Jobs  23040.0  20130314T150000  20130612T150000   \n",
              "2                 Sales Jobs  15500.0  20120527T000000  20120626T000000   \n",
              "3  Healthcare & Nursing Jobs  31000.0  20130829T120000  20130912T120000   \n",
              "4           Engineering Jobs  19500.0  20120513T120000  20120811T120000   \n",
              "\n",
              "         SourceName  \n",
              "0  cv-library.co.uk  \n",
              "1  cv-library.co.uk  \n",
              "2  cv-library.co.uk  \n",
              "3  cv-library.co.uk  \n",
              "4  cv-library.co.uk  "
            ]
          },
          "execution_count": 776,
          "metadata": {},
          "output_type": "execute_result"
        }
      ],
      "source": [
        "df_data.head()"
      ]
    },
    {
      "cell_type": "markdown",
      "metadata": {
        "id": "IpSQI2MNB6iq"
      },
      "source": [
        "Checking for outlier in the column 'Salary'."
      ]
    },
    {
      "cell_type": "code",
      "execution_count": 777,
      "metadata": {
        "colab": {
          "base_uri": "https://localhost:8080/",
          "height": 1000
        },
        "id": "6_sbTVQE0ZOb",
        "outputId": "cb7b6fb6-d1bb-4ae9-cdf1-f66b3a114828"
      },
      "outputs": [
        {
          "data": {
            "image/png": "[encoded data removed]",
            "text/plain": [
              "<Figure size 600x400 with 1 Axes>"
            ]
          },
          "metadata": {},
          "output_type": "display_data"
        },
        {
          "name": "stdout",
          "output_type": "stream",
          "text": [
            "Outliers exist in the 'Salary' column:\n",
            "             Id                                              Title  \\\n",
            "63     70770465             BI Developer  **** per day  Gloucester   \n",
            "64     70757659  Sales Manager  Employee Benefits  BD / Account...   \n",
            "70     67652162                        HR Payroll Database Analyst   \n",
            "101    69017444          Head of Architecture x **** (Please Read)   \n",
            "298    67299660               Head of Business Process Improvement   \n",
            "...         ...                                                ...   \n",
            "50365  69133532  Senior Manager  IT Project & Program Risk Assu...   \n",
            "50373  67996663                           Trainee Emissions Broker   \n",
            "50408  72576904  Development Manager  Agile / eCommerce  up to ...   \n",
            "50414  72579028                             Head of PBR and Income   \n",
            "50523  69473834   Head of European Partner Relationship Management   \n",
            "\n",
            "                Location                      Company   ContractType  \\\n",
            "63       Gloucestershire            Capita Resourcing  non-specified   \n",
            "64           West Sussex  Capital Strategy Associates  non-specified   \n",
            "70                    Uk  Clearwater People Solutions  non-specified   \n",
            "101                   Uk            Capita Resourcing  non-specified   \n",
            "298                   Uk            Sigma Recruitment  non-specified   \n",
            "...                  ...                          ...            ...   \n",
            "50365     Central London         CGS Search Selection      full_time   \n",
            "50373                 Uk            Albert Holmes Ltd  non-specified   \n",
            "50408             London           The People Network      full_time   \n",
            "50414  North West London           Foxwell Associates      full_time   \n",
            "50523             London              Realex Payments  non-specified   \n",
            "\n",
            "        ContractTime                   Category   Salary         OpenDate  \\\n",
            "63          contract                    IT Jobs  90000.0  20120121T000000   \n",
            "64         permanent  Accounting & Finance Jobs  80000.0  20130503T150000   \n",
            "70          contract                    IT Jobs  75000.0  20121130T120000   \n",
            "101        permanent                    IT Jobs  87500.0  20120111T000000   \n",
            "298        permanent  Accounting & Finance Jobs  80000.0  20130921T000000   \n",
            "...              ...                        ...      ...              ...   \n",
            "50365      permanent  Accounting & Finance Jobs  90000.0  20130516T150000   \n",
            "50373  non-specified  Accounting & Finance Jobs  75000.0  20130107T120000   \n",
            "50408      permanent                    IT Jobs  80000.0  20130807T120000   \n",
            "50414       contract  Accounting & Finance Jobs  90000.0  20120209T000000   \n",
            "50523      permanent                    IT Jobs  75000.0  20120629T120000   \n",
            "\n",
            "             CloseDate          SourceName  \n",
            "63     20120321T000000    cv-library.co.uk  \n",
            "64     20130702T150000    cv-library.co.uk  \n",
            "70     20121230T120000    cv-library.co.uk  \n",
            "101    20120311T000000    cv-library.co.uk  \n",
            "298    20131220T000000    cv-library.co.uk  \n",
            "...                ...                 ...  \n",
            "50365  20130814T150000  careersinaudit.com  \n",
            "50373  20130121T120000    juniorbroker.com  \n",
            "50408  20131006T120000      JustLondonJobs  \n",
            "50414  20120409T000000         TotallyExec  \n",
            "50523  20120927T120000    emptylemon.co.uk  \n",
            "\n",
            "[1536 rows x 11 columns]\n"
          ]
        }
      ],
      "source": [
        "# Calculate the IQR (Interquartile Range)\n",
        "Q1 = df_data['Salary'].quantile(0.25)\n",
        "Q3 = df_data['Salary'].quantile(0.75)\n",
        "IQR = Q3 - Q1\n",
        "\n",
        "# Define the lower and upper bounds for outliers\n",
        "lower_bound = Q1 - 1.5 * IQR\n",
        "upper_bound = Q3 + 1.5 * IQR\n",
        "\n",
        "# Detect and filter outliers\n",
        "outliers = df_data[(df_data['Salary'] < lower_bound) | (df_data['Salary'] > upper_bound)]\n",
        "filtered_df = df_data[(df_data['Salary'] >= lower_bound) & (df_data['Salary'] <= upper_bound)]\n",
        "\n",
        "# Create a boxplot to visualize outliers\n",
        "plt.figure(figsize=(6, 4))\n",
        "plt.boxplot(df_data['Salary'], sym='k.')\n",
        "plt.title('Boxplot of Salary with Outliers')\n",
        "plt.xlabel('Salary')\n",
        "plt.show()\n",
        "\n",
        "# Detect outliers\n",
        "outliers = df_data[(df_data['Salary'] < lower_bound) | (df_data['Salary'] > upper_bound)]\n",
        "\n",
        "# Check if outliers exist\n",
        "if not outliers.empty:\n",
        "    print(\"Outliers exist in the 'Salary' column:\")\n",
        "    print(outliers)\n",
        "else:\n",
        "    print(\"No outliers found in the 'Salary' column.\")"
      ]
    },
    {
      "cell_type": "markdown",
      "metadata": {
        "id": "aMLfOQh_xNoS"
      },
      "source": [
        "- Cleaning 'OpenDate' and 'CloseDate' Columns:\n",
        "- Converted all values to the datetime format 'yyyy-mm-dd hh:mm:ss'.\n"
      ]
    },
    {
      "cell_type": "code",
      "execution_count": 778,
      "metadata": {
        "colab": {
          "base_uri": "https://localhost:8080/",
          "height": 400
        },
        "id": "XB1RuC1mW4iD",
        "outputId": "51a51aec-b9a3-4e97-b895-96646ce72533"
      },
      "outputs": [
        {
          "data": {
            "text/html": [
              "\n",
              "  <div id=\"df-85a7a418-8071-49fc-af02-bbc7d9aa7b34\" class=\"colab-df-container\">\n",
              "    <div>\n",
              "<style scoped>\n",
              "    .dataframe tbody tr th:only-of-type {\n",
              "        vertical-align: middle;\n",
              "    }\n",
              "\n",
              "    .dataframe tbody tr th {\n",
              "        vertical-align: top;\n",
              "    }\n",
              "\n",
              "    .dataframe thead th {\n",
              "        text-align: right;\n",
              "    }\n",
              "</style>\n",
              "<table border=\"1\" class=\"dataframe\">\n",
              "  <thead>\n",
              "    <tr style=\"text-align: right;\">\n",
              "      <th></th>\n",
              "      <th>Id</th>\n",
              "      <th>Title</th>\n",
              "      <th>Location</th>\n",
              "      <th>Company</th>\n",
              "      <th>ContractType</th>\n",
              "      <th>ContractTime</th>\n",
              "      <th>Category</th>\n",
              "      <th>Salary</th>\n",
              "      <th>OpenDate</th>\n",
              "      <th>CloseDate</th>\n",
              "      <th>SourceName</th>\n",
              "    </tr>\n",
              "  </thead>\n",
              "  <tbody>\n",
              "    <tr>\n",
              "      <th>0</th>\n",
              "      <td>69537180</td>\n",
              "      <td>Head of Business Assurance</td>\n",
              "      <td>Uk</td>\n",
              "      <td>Interaction Finance</td>\n",
              "      <td>non-specified</td>\n",
              "      <td>permanent</td>\n",
              "      <td>Accounting &amp; Finance Jobs</td>\n",
              "      <td>47500.0</td>\n",
              "      <td>2013-01-31 12:00:00</td>\n",
              "      <td>2013-03-02 12:00:00</td>\n",
              "      <td>cv-library.co.uk</td>\n",
              "    </tr>\n",
              "    <tr>\n",
              "      <th>1</th>\n",
              "      <td>68216910</td>\n",
              "      <td>Machine Tool Wiremen / Panel Wiremen</td>\n",
              "      <td>Bradford</td>\n",
              "      <td>Network Employment Consultancy</td>\n",
              "      <td>non-specified</td>\n",
              "      <td>permanent</td>\n",
              "      <td>Engineering Jobs</td>\n",
              "      <td>23040.0</td>\n",
              "      <td>2013-03-14 15:00:00</td>\n",
              "      <td>2013-06-12 15:00:00</td>\n",
              "      <td>cv-library.co.uk</td>\n",
              "    </tr>\n",
              "    <tr>\n",
              "      <th>2</th>\n",
              "      <td>70166734</td>\n",
              "      <td>sales (no cold calling)</td>\n",
              "      <td>Stoke-on-trent</td>\n",
              "      <td>Oakland House Recruitment</td>\n",
              "      <td>non-specified</td>\n",
              "      <td>permanent</td>\n",
              "      <td>Sales Jobs</td>\n",
              "      <td>15500.0</td>\n",
              "      <td>2012-05-27 00:00:00</td>\n",
              "      <td>2012-06-26 00:00:00</td>\n",
              "      <td>cv-library.co.uk</td>\n",
              "    </tr>\n",
              "    <tr>\n",
              "      <th>3</th>\n",
              "      <td>70763600</td>\n",
              "      <td>Nurse Medical Advisor  PART TIME</td>\n",
              "      <td>Guildford</td>\n",
              "      <td>Reed Health</td>\n",
              "      <td>part_time</td>\n",
              "      <td>non-specified</td>\n",
              "      <td>Healthcare &amp; Nursing Jobs</td>\n",
              "      <td>31000.0</td>\n",
              "      <td>2013-08-29 12:00:00</td>\n",
              "      <td>2013-09-12 12:00:00</td>\n",
              "      <td>cv-library.co.uk</td>\n",
              "    </tr>\n",
              "    <tr>\n",
              "      <th>4</th>\n",
              "      <td>69559871</td>\n",
              "      <td>Sales/Customer Service Engineer</td>\n",
              "      <td>Uk</td>\n",
              "      <td>Grad Central</td>\n",
              "      <td>non-specified</td>\n",
              "      <td>permanent</td>\n",
              "      <td>Engineering Jobs</td>\n",
              "      <td>19500.0</td>\n",
              "      <td>2012-05-13 12:00:00</td>\n",
              "      <td>2012-08-11 12:00:00</td>\n",
              "      <td>cv-library.co.uk</td>\n",
              "    </tr>\n",
              "  </tbody>\n",
              "</table>\n",
              "</div>\n",
              "    <div class=\"colab-df-buttons\">\n",
              "\n",
              "  <div class=\"colab-df-container\">\n",
              "    <button class=\"colab-df-convert\" onclick=\"convertToInteractive('df-85a7a418-8071-49fc-af02-bbc7d9aa7b34')\"\n",
              "            title=\"Convert this dataframe to an interactive table.\"\n",
              "            style=\"display:none;\">\n",
              "\n",
              "  <svg xmlns=\"http://www.w3.org/2000/svg\" height=\"24px\" viewBox=\"0 -960 960 960\">\n",
              "    <path d=\"M120-120v-720h720v720H120Zm60-500h600v-160H180v160Zm220 220h160v-160H400v160Zm0 220h160v-160H400v160ZM180-400h160v-160H180v160Zm440 0h160v-160H620v160ZM180-180h160v-160H180v160Zm440 0h160v-160H620v160Z\"/>\n",
              "  </svg>\n",
              "    </button>\n",
              "\n",
              "  <style>\n",
              "    .colab-df-container {\n",
              "      display:flex;\n",
              "      gap: 12px;\n",
              "    }\n",
              "\n",
              "    .colab-df-convert {\n",
              "      background-color: #E8F0FE;\n",
              "      border: none;\n",
              "      border-radius: 50%;\n",
              "      cursor: pointer;\n",
              "      display: none;\n",
              "      fill: #1967D2;\n",
              "      height: 32px;\n",
              "      padding: 0 0 0 0;\n",
              "      width: 32px;\n",
              "    }\n",
              "\n",
              "    .colab-df-convert:hover {\n",
              "      background-color: #E2EBFA;\n",
              "      box-shadow: 0px 1px 2px rgba(60, 64, 67, 0.3), 0px 1px 3px 1px rgba(60, 64, 67, 0.15);\n",
              "      fill: #174EA6;\n",
              "    }\n",
              "\n",
              "    .colab-df-buttons div {\n",
              "      margin-bottom: 4px;\n",
              "    }\n",
              "\n",
              "    [theme=dark] .colab-df-convert {\n",
              "      background-color: #3B4455;\n",
              "      fill: #D2E3FC;\n",
              "    }\n",
              "\n",
              "    [theme=dark] .colab-df-convert:hover {\n",
              "      background-color: #434B5C;\n",
              "      box-shadow: 0px 1px 3px 1px rgba(0, 0, 0, 0.15);\n",
              "      filter: drop-shadow(0px 1px 2px rgba(0, 0, 0, 0.3));\n",
              "      fill: #FFFFFF;\n",
              "    }\n",
              "  </style>\n",
              "\n",
              "    <script>\n",
              "      const buttonEl =\n",
              "        document.querySelector('#df-85a7a418-8071-49fc-af02-bbc7d9aa7b34 button.colab-df-convert');\n",
              "      buttonEl.style.display =\n",
              "        google.colab.kernel.accessAllowed ? 'block' : 'none';\n",
              "\n",
              "      async function convertToInteractive(key) {\n",
              "        const element = document.querySelector('#df-85a7a418-8071-49fc-af02-bbc7d9aa7b34');\n",
              "        const dataTable =\n",
              "          await google.colab.kernel.invokeFunction('convertToInteractive',\n",
              "                                                    [key], {});\n",
              "        if (!dataTable) return;\n",
              "\n",
              "        const docLinkHtml = 'Like what you see? Visit the ' +\n",
              "          '<a target=\"_blank\" href=https://colab.research.google.com/notebooks/data_table.ipynb>data table notebook</a>'\n",
              "          + ' to learn more about interactive tables.';\n",
              "        element.innerHTML = '';\n",
              "        dataTable['output_type'] = 'display_data';\n",
              "        await google.colab.output.renderOutput(dataTable, element);\n",
              "        const docLink = document.createElement('div');\n",
              "        docLink.innerHTML = docLinkHtml;\n",
              "        element.appendChild(docLink);\n",
              "      }\n",
              "    </script>\n",
              "  </div>\n",
              "\n",
              "\n",
              "<div id=\"df-60d6db5f-ff0e-4297-b74c-d95c76c8097c\">\n",
              "  <button class=\"colab-df-quickchart\" onclick=\"quickchart('df-60d6db5f-ff0e-4297-b74c-d95c76c8097c')\"\n",
              "            title=\"Suggest charts.\"\n",
              "            style=\"display:none;\">\n",
              "\n",
              "<svg xmlns=\"http://www.w3.org/2000/svg\" height=\"24px\"viewBox=\"0 0 24 24\"\n",
              "     width=\"24px\">\n",
              "    <g>\n",
              "        <path d=\"M19 3H5c-1.1 0-2 .9-2 2v14c0 1.1.9 2 2 2h14c1.1 0 2-.9 2-2V5c0-1.1-.9-2-2-2zM9 17H7v-7h2v7zm4 0h-2V7h2v10zm4 0h-2v-4h2v4z\"/>\n",
              "    </g>\n",
              "</svg>\n",
              "  </button>\n",
              "\n",
              "<style>\n",
              "  .colab-df-quickchart {\n",
              "      --bg-color: #E8F0FE;\n",
              "      --fill-color: #1967D2;\n",
              "      --hover-bg-color: #E2EBFA;\n",
              "      --hover-fill-color: #174EA6;\n",
              "      --disabled-fill-color: #AAA;\n",
              "      --disabled-bg-color: #DDD;\n",
              "  }\n",
              "\n",
              "  [theme=dark] .colab-df-quickchart {\n",
              "      --bg-color: #3B4455;\n",
              "      --fill-color: #D2E3FC;\n",
              "      --hover-bg-color: #434B5C;\n",
              "      --hover-fill-color: #FFFFFF;\n",
              "      --disabled-bg-color: #3B4455;\n",
              "      --disabled-fill-color: #666;\n",
              "  }\n",
              "\n",
              "  .colab-df-quickchart {\n",
              "    background-color: var(--bg-color);\n",
              "    border: none;\n",
              "    border-radius: 50%;\n",
              "    cursor: pointer;\n",
              "    display: none;\n",
              "    fill: var(--fill-color);\n",
              "    height: 32px;\n",
              "    padding: 0;\n",
              "    width: 32px;\n",
              "  }\n",
              "\n",
              "  .colab-df-quickchart:hover {\n",
              "    background-color: var(--hover-bg-color);\n",
              "    box-shadow: 0 1px 2px rgba(60, 64, 67, 0.3), 0 1px 3px 1px rgba(60, 64, 67, 0.15);\n",
              "    fill: var(--button-hover-fill-color);\n",
              "  }\n",
              "\n",
              "  .colab-df-quickchart-complete:disabled,\n",
              "  .colab-df-quickchart-complete:disabled:hover {\n",
              "    background-color: var(--disabled-bg-color);\n",
              "    fill: var(--disabled-fill-color);\n",
              "    box-shadow: none;\n",
              "  }\n",
              "\n",
              "  .colab-df-spinner {\n",
              "    border: 2px solid var(--fill-color);\n",
              "    border-color: transparent;\n",
              "    border-bottom-color: var(--fill-color);\n",
              "    animation:\n",
              "      spin 1s steps(1) infinite;\n",
              "  }\n",
              "\n",
              "  @keyframes spin {\n",
              "    0% {\n",
              "      border-color: transparent;\n",
              "      border-bottom-color: var(--fill-color);\n",
              "      border-left-color: var(--fill-color);\n",
              "    }\n",
              "    20% {\n",
              "      border-color: transparent;\n",
              "      border-left-color: var(--fill-color);\n",
              "      border-top-color: var(--fill-color);\n",
              "    }\n",
              "    30% {\n",
              "      border-color: transparent;\n",
              "      border-left-color: var(--fill-color);\n",
              "      border-top-color: var(--fill-color);\n",
              "      border-right-color: var(--fill-color);\n",
              "    }\n",
              "    40% {\n",
              "      border-color: transparent;\n",
              "      border-right-color: var(--fill-color);\n",
              "      border-top-color: var(--fill-color);\n",
              "    }\n",
              "    60% {\n",
              "      border-color: transparent;\n",
              "      border-right-color: var(--fill-color);\n",
              "    }\n",
              "    80% {\n",
              "      border-color: transparent;\n",
              "      border-right-color: var(--fill-color);\n",
              "      border-bottom-color: var(--fill-color);\n",
              "    }\n",
              "    90% {\n",
              "      border-color: transparent;\n",
              "      border-bottom-color: var(--fill-color);\n",
              "    }\n",
              "  }\n",
              "</style>\n",
              "\n",
              "  <script>\n",
              "    async function quickchart(key) {\n",
              "      const quickchartButtonEl =\n",
              "        document.querySelector('#' + key + ' button');\n",
              "      quickchartButtonEl.disabled = true;  // To prevent multiple clicks.\n",
              "      quickchartButtonEl.classList.add('colab-df-spinner');\n",
              "      try {\n",
              "        const charts = await google.colab.kernel.invokeFunction(\n",
              "            'suggestCharts', [key], {});\n",
              "      } catch (error) {\n",
              "        console.error('Error during call to suggestCharts:', error);\n",
              "      }\n",
              "      quickchartButtonEl.classList.remove('colab-df-spinner');\n",
              "      quickchartButtonEl.classList.add('colab-df-quickchart-complete');\n",
              "    }\n",
              "    (() => {\n",
              "      let quickchartButtonEl =\n",
              "        document.querySelector('#df-60d6db5f-ff0e-4297-b74c-d95c76c8097c button');\n",
              "      quickchartButtonEl.style.display =\n",
              "        google.colab.kernel.accessAllowed ? 'block' : 'none';\n",
              "    })();\n",
              "  </script>\n",
              "</div>\n",
              "    </div>\n",
              "  </div>\n"
            ],
            "text/plain": [
              "         Id                                 Title        Location  \\\n",
              "0  69537180            Head of Business Assurance              Uk   \n",
              "1  68216910  Machine Tool Wiremen / Panel Wiremen        Bradford   \n",
              "2  70166734               sales (no cold calling)  Stoke-on-trent   \n",
              "3  70763600      Nurse Medical Advisor  PART TIME       Guildford   \n",
              "4  69559871       Sales/Customer Service Engineer              Uk   \n",
              "\n",
              "                          Company   ContractType   ContractTime  \\\n",
              "0             Interaction Finance  non-specified      permanent   \n",
              "1  Network Employment Consultancy  non-specified      permanent   \n",
              "2       Oakland House Recruitment  non-specified      permanent   \n",
              "3                     Reed Health      part_time  non-specified   \n",
              "4                    Grad Central  non-specified      permanent   \n",
              "\n",
              "                    Category   Salary            OpenDate           CloseDate  \\\n",
              "0  Accounting & Finance Jobs  47500.0 2013-01-31 12:00:00 2013-03-02 12:00:00   \n",
              "1           Engineering Jobs  23040.0 2013-03-14 15:00:00 2013-06-12 15:00:00   \n",
              "2                 Sales Jobs  15500.0 2012-05-27 00:00:00 2012-06-26 00:00:00   \n",
              "3  Healthcare & Nursing Jobs  31000.0 2013-08-29 12:00:00 2013-09-12 12:00:00   \n",
              "4           Engineering Jobs  19500.0 2012-05-13 12:00:00 2012-08-11 12:00:00   \n",
              "\n",
              "         SourceName  \n",
              "0  cv-library.co.uk  \n",
              "1  cv-library.co.uk  \n",
              "2  cv-library.co.uk  \n",
              "3  cv-library.co.uk  \n",
              "4  cv-library.co.uk  "
            ]
          },
          "execution_count": 778,
          "metadata": {},
          "output_type": "execute_result"
        }
      ],
      "source": [
        "NotMatchedFormatdate = []\n",
        "from datetime import datetime\n",
        "# Function to convert string date to datetime with fallback format\n",
        "def convert_to_datetime(date_str):\n",
        "    if date_str:\n",
        "        try:\n",
        "            return datetime.strptime(date_str, '%Y%m%dT%H%M%S')\n",
        "        except ValueError:\n",
        "            # Handle non-standard date format\n",
        "            NotMatchedFormatdate.append(date_str)\n",
        "            return None\n",
        "    else:\n",
        "        return None\n",
        "\n",
        "# Apply the conversion function to 'OpenDate' and 'CloseDate' columns\n",
        "df_data['OpenDate'] = df_data['OpenDate'].apply(convert_to_datetime)\n",
        "df_data['CloseDate'] = df_data['CloseDate'].apply(convert_to_datetime)\n",
        "\n",
        "# Resulting DataFrame with datetime objects\n",
        "df_data.head()"
      ]
    },
    {
      "cell_type": "code",
      "execution_count": 779,
      "metadata": {
        "colab": {
          "base_uri": "https://localhost:8080/"
        },
        "id": "H-gKuzZotkP7",
        "outputId": "424d5e40-fbee-42b6-985d-6b6d223b0e1a"
      },
      "outputs": [
        {
          "data": {
            "text/plain": [
              "['20121511T120000']"
            ]
          },
          "execution_count": 779,
          "metadata": {},
          "output_type": "execute_result"
        }
      ],
      "source": [
        "NotMatchedFormatdate"
      ]
    },
    {
      "cell_type": "code",
      "execution_count": 780,
      "metadata": {
        "colab": {
          "base_uri": "https://localhost:8080/"
        },
        "id": "ZlTC0IKBeWJ0",
        "outputId": "45cc6f36-87eb-435c-83d4-8164d3e7b74f"
      },
      "outputs": [
        {
          "data": {
            "text/plain": [
              "Id              0\n",
              "Title           0\n",
              "Location        0\n",
              "Company         0\n",
              "ContractType    0\n",
              "ContractTime    0\n",
              "Category        0\n",
              "Salary          0\n",
              "OpenDate        1\n",
              "CloseDate       0\n",
              "SourceName      0\n",
              "dtype: int64"
            ]
          },
          "execution_count": 780,
          "metadata": {},
          "output_type": "execute_result"
        }
      ],
      "source": [
        "df_data.isnull().sum()"
      ]
    },
    {
      "cell_type": "code",
      "execution_count": 781,
      "metadata": {
        "id": "bl9uAq2moF43"
      },
      "outputs": [],
      "source": [
        "df_data['OpenDate'].fillna('non-specified', inplace=True)\n",
        "df_data['CloseDate'].fillna('non-specified', inplace=True)\n",
        "df_data = df_data[df_data['OpenDate'] != 'non-specified']\n",
        "df_data = df_data[df_data['CloseDate'] != 'non-specified']\n",
        "\n",
        "df_data['OpenDate'] = pd.to_datetime(df_data['OpenDate'], format='%Y-%m-%d %H:%M:%S')"
      ]
    },
    {
      "cell_type": "code",
      "execution_count": 782,
      "metadata": {
        "id": "-p4Ok8iZzEfZ"
      },
      "outputs": [],
      "source": [
        "df_data['SourceName'].fillna('non-specified', inplace=True)\n",
        "df_data['SourceName']= df_data['SourceName'].astype(str)"
      ]
    },
    {
      "cell_type": "code",
      "execution_count": 783,
      "metadata": {
        "colab": {
          "base_uri": "https://localhost:8080/"
        },
        "id": "qG-IfWh91FqB",
        "outputId": "9c34299b-dc9a-4005-a197-a6a5e0856e2d"
      },
      "outputs": [
        {
          "name": "stdout",
          "output_type": "stream",
          "text": [
            "<class 'pandas.core.frame.DataFrame'>\n",
            "Int64Index: 49251 entries, 0 to 50752\n",
            "Data columns (total 11 columns):\n",
            " #   Column        Non-Null Count  Dtype         \n",
            "---  ------        --------------  -----         \n",
            " 0   Id            49251 non-null  int64         \n",
            " 1   Title         49251 non-null  object        \n",
            " 2   Location      49251 non-null  object        \n",
            " 3   Company       49251 non-null  object        \n",
            " 4   ContractType  49251 non-null  object        \n",
            " 5   ContractTime  49251 non-null  object        \n",
            " 6   Category      49251 non-null  object        \n",
            " 7   Salary        49251 non-null  float64       \n",
            " 8   OpenDate      49251 non-null  datetime64[ns]\n",
            " 9   CloseDate     49251 non-null  datetime64[ns]\n",
            " 10  SourceName    49251 non-null  object        \n",
            "dtypes: datetime64[ns](2), float64(1), int64(1), object(7)\n",
            "memory usage: 4.5+ MB\n"
          ]
        }
      ],
      "source": [
        "df_data.info()"
      ]
    },
    {
      "cell_type": "markdown",
      "metadata": {
        "id": "bAWEkozXtr9M"
      },
      "source": [
        "......"
      ]
    },
    {
      "cell_type": "markdown",
      "metadata": {
        "id": "euH_3NT9tr9M"
      },
      "source": [
        "## Saving data\n",
        "Save the parsed and cleaned data as well as the error list, named as:\n",
        "- \\dataset1_solution.csv\n",
        "- \\errorlist.csv"
      ]
    },
    {
      "cell_type": "code",
      "execution_count": 784,
      "metadata": {
        "collapsed": true,
        "id": "1Gjb2RD3tr9M"
      },
      "outputs": [],
      "source": [
        "# code to save output data\n",
        "df_data.to_csv('dataset1_solution.csv', index=False)\n",
        "\n",
        "# save error record dataframe\n",
        "updated_error_list.to_csv('errorlist.csv', index=False)"
      ]
    },
    {
      "cell_type": "markdown",
      "metadata": {
        "id": "qNhpRxTItr9M"
      },
      "source": [
        "## Summary\n",
        "in Task 2, we audited and cleansed the job dataset to ensure it adheres to the required format and domain values specified in Table 2 of the assignment assesment pdf document. We resolved a variety of data issues that are frequent in datasets, such as typos, abnormalities, missing numbers, and inconsistencies.For example, we standardised the \"ContractType\" and \"ContractTime\" columns to include values such as 'full_time,' 'part_time,' or 'non-specified.' We also made certain that all wages had two decimal places and were legitimate float numbers.We explored the data and identified issues using both non-graphical (statistical) and graphical methods (e.g., plots) during the auditing process.\n",
        "\n",
        "\n",
        "We then cleaned the dataset and produced the clean dataset, named s3961780_dataset1_solution.csv, which adheres to the specified format and domain values.Additionally, we recorded all the identified errors and the methods used to handle them in the CSV file s3961780_errorlist.csv.Overall, Task 2 involved thorough data cleaning and validation to prepare the dataset for integration and analysis in subsequent tasks."
      ]
    }
  ],
  "metadata": {
    "colab": {
      "provenance": []
    },
    "kernelspec": {
      "display_name": "Python 3 (ipykernel)",
      "language": "python",
      "name": "python3"
    },
    "language_info": {
      "codemirror_mode": {
        "name": "ipython",
        "version": 3
      },
      "file_extension": ".py",
      "mimetype": "text/x-python",
      "name": "python",
      "nbconvert_exporter": "python",
      "pygments_lexer": "ipython3",
      "version": "3.8.5"
    }
  },
  "nbformat": 4,
  "nbformat_minor": 0
}
